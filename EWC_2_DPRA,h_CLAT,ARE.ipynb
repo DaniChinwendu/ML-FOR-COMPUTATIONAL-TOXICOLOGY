{
  "cells": [
    {
      "cell_type": "markdown",
      "metadata": {
        "id": "view-in-github",
        "colab_type": "text"
      },
      "source": [
        "<a href=\"https://colab.research.google.com/github/DaniChinwendu/ML-FOR-COMPUTATIONAL-TOXICOLOGY/blob/main/EWC_2_DPRA%2Ch_CLAT%2CARE.ipynb\" target=\"_parent\"><img src=\"https://colab.research.google.com/assets/colab-badge.svg\" alt=\"Open In Colab\"/></a>"
      ]
    },
    {
      "cell_type": "code",
      "execution_count": 1,
      "metadata": {
        "colab": {
          "base_uri": "https://localhost:8080/",
          "height": 426
        },
        "id": "hR2R72VeT1c4",
        "outputId": "7361d4f6-7051-4922-90aa-5f9b9834b6e0"
      },
      "outputs": [
        {
          "output_type": "display_data",
          "data": {
            "text/plain": [
              "<IPython.core.display.HTML object>"
            ],
            "text/html": [
              "\n",
              "     <input type=\"file\" id=\"files-7715bf08-f5ea-42fc-a569-e914a9c161b7\" name=\"files[]\" multiple disabled\n",
              "        style=\"border:none\" />\n",
              "     <output id=\"result-7715bf08-f5ea-42fc-a569-e914a9c161b7\">\n",
              "      Upload widget is only available when the cell has been executed in the\n",
              "      current browser session. Please rerun this cell to enable.\n",
              "      </output>\n",
              "      <script>// Copyright 2017 Google LLC\n",
              "//\n",
              "// Licensed under the Apache License, Version 2.0 (the \"License\");\n",
              "// you may not use this file except in compliance with the License.\n",
              "// You may obtain a copy of the License at\n",
              "//\n",
              "//      http://www.apache.org/licenses/LICENSE-2.0\n",
              "//\n",
              "// Unless required by applicable law or agreed to in writing, software\n",
              "// distributed under the License is distributed on an \"AS IS\" BASIS,\n",
              "// WITHOUT WARRANTIES OR CONDITIONS OF ANY KIND, either express or implied.\n",
              "// See the License for the specific language governing permissions and\n",
              "// limitations under the License.\n",
              "\n",
              "/**\n",
              " * @fileoverview Helpers for google.colab Python module.\n",
              " */\n",
              "(function(scope) {\n",
              "function span(text, styleAttributes = {}) {\n",
              "  const element = document.createElement('span');\n",
              "  element.textContent = text;\n",
              "  for (const key of Object.keys(styleAttributes)) {\n",
              "    element.style[key] = styleAttributes[key];\n",
              "  }\n",
              "  return element;\n",
              "}\n",
              "\n",
              "// Max number of bytes which will be uploaded at a time.\n",
              "const MAX_PAYLOAD_SIZE = 100 * 1024;\n",
              "\n",
              "function _uploadFiles(inputId, outputId) {\n",
              "  const steps = uploadFilesStep(inputId, outputId);\n",
              "  const outputElement = document.getElementById(outputId);\n",
              "  // Cache steps on the outputElement to make it available for the next call\n",
              "  // to uploadFilesContinue from Python.\n",
              "  outputElement.steps = steps;\n",
              "\n",
              "  return _uploadFilesContinue(outputId);\n",
              "}\n",
              "\n",
              "// This is roughly an async generator (not supported in the browser yet),\n",
              "// where there are multiple asynchronous steps and the Python side is going\n",
              "// to poll for completion of each step.\n",
              "// This uses a Promise to block the python side on completion of each step,\n",
              "// then passes the result of the previous step as the input to the next step.\n",
              "function _uploadFilesContinue(outputId) {\n",
              "  const outputElement = document.getElementById(outputId);\n",
              "  const steps = outputElement.steps;\n",
              "\n",
              "  const next = steps.next(outputElement.lastPromiseValue);\n",
              "  return Promise.resolve(next.value.promise).then((value) => {\n",
              "    // Cache the last promise value to make it available to the next\n",
              "    // step of the generator.\n",
              "    outputElement.lastPromiseValue = value;\n",
              "    return next.value.response;\n",
              "  });\n",
              "}\n",
              "\n",
              "/**\n",
              " * Generator function which is called between each async step of the upload\n",
              " * process.\n",
              " * @param {string} inputId Element ID of the input file picker element.\n",
              " * @param {string} outputId Element ID of the output display.\n",
              " * @return {!Iterable<!Object>} Iterable of next steps.\n",
              " */\n",
              "function* uploadFilesStep(inputId, outputId) {\n",
              "  const inputElement = document.getElementById(inputId);\n",
              "  inputElement.disabled = false;\n",
              "\n",
              "  const outputElement = document.getElementById(outputId);\n",
              "  outputElement.innerHTML = '';\n",
              "\n",
              "  const pickedPromise = new Promise((resolve) => {\n",
              "    inputElement.addEventListener('change', (e) => {\n",
              "      resolve(e.target.files);\n",
              "    });\n",
              "  });\n",
              "\n",
              "  const cancel = document.createElement('button');\n",
              "  inputElement.parentElement.appendChild(cancel);\n",
              "  cancel.textContent = 'Cancel upload';\n",
              "  const cancelPromise = new Promise((resolve) => {\n",
              "    cancel.onclick = () => {\n",
              "      resolve(null);\n",
              "    };\n",
              "  });\n",
              "\n",
              "  // Wait for the user to pick the files.\n",
              "  const files = yield {\n",
              "    promise: Promise.race([pickedPromise, cancelPromise]),\n",
              "    response: {\n",
              "      action: 'starting',\n",
              "    }\n",
              "  };\n",
              "\n",
              "  cancel.remove();\n",
              "\n",
              "  // Disable the input element since further picks are not allowed.\n",
              "  inputElement.disabled = true;\n",
              "\n",
              "  if (!files) {\n",
              "    return {\n",
              "      response: {\n",
              "        action: 'complete',\n",
              "      }\n",
              "    };\n",
              "  }\n",
              "\n",
              "  for (const file of files) {\n",
              "    const li = document.createElement('li');\n",
              "    li.append(span(file.name, {fontWeight: 'bold'}));\n",
              "    li.append(span(\n",
              "        `(${file.type || 'n/a'}) - ${file.size} bytes, ` +\n",
              "        `last modified: ${\n",
              "            file.lastModifiedDate ? file.lastModifiedDate.toLocaleDateString() :\n",
              "                                    'n/a'} - `));\n",
              "    const percent = span('0% done');\n",
              "    li.appendChild(percent);\n",
              "\n",
              "    outputElement.appendChild(li);\n",
              "\n",
              "    const fileDataPromise = new Promise((resolve) => {\n",
              "      const reader = new FileReader();\n",
              "      reader.onload = (e) => {\n",
              "        resolve(e.target.result);\n",
              "      };\n",
              "      reader.readAsArrayBuffer(file);\n",
              "    });\n",
              "    // Wait for the data to be ready.\n",
              "    let fileData = yield {\n",
              "      promise: fileDataPromise,\n",
              "      response: {\n",
              "        action: 'continue',\n",
              "      }\n",
              "    };\n",
              "\n",
              "    // Use a chunked sending to avoid message size limits. See b/62115660.\n",
              "    let position = 0;\n",
              "    do {\n",
              "      const length = Math.min(fileData.byteLength - position, MAX_PAYLOAD_SIZE);\n",
              "      const chunk = new Uint8Array(fileData, position, length);\n",
              "      position += length;\n",
              "\n",
              "      const base64 = btoa(String.fromCharCode.apply(null, chunk));\n",
              "      yield {\n",
              "        response: {\n",
              "          action: 'append',\n",
              "          file: file.name,\n",
              "          data: base64,\n",
              "        },\n",
              "      };\n",
              "\n",
              "      let percentDone = fileData.byteLength === 0 ?\n",
              "          100 :\n",
              "          Math.round((position / fileData.byteLength) * 100);\n",
              "      percent.textContent = `${percentDone}% done`;\n",
              "\n",
              "    } while (position < fileData.byteLength);\n",
              "  }\n",
              "\n",
              "  // All done.\n",
              "  yield {\n",
              "    response: {\n",
              "      action: 'complete',\n",
              "    }\n",
              "  };\n",
              "}\n",
              "\n",
              "scope.google = scope.google || {};\n",
              "scope.google.colab = scope.google.colab || {};\n",
              "scope.google.colab._files = {\n",
              "  _uploadFiles,\n",
              "  _uploadFilesContinue,\n",
              "};\n",
              "})(self);\n",
              "</script> "
            ]
          },
          "metadata": {}
        },
        {
          "output_type": "stream",
          "name": "stdout",
          "text": [
            "Saving Hirota_2015_Updated_Clean_092515 (2).csv to Hirota_2015_Updated_Clean_092515 (2).csv\n"
          ]
        },
        {
          "output_type": "execute_result",
          "data": {
            "text/plain": [
              "                 CASRN                Chemical LLNAthreshold  \\\n",
              "CASRN                                                          \n",
              "886-38-4      886-38-4  Diphenylcyclopropenone         0.003   \n",
              "15646-46-5  15646-46-5               Oxazolone         0.003   \n",
              "1897-45-6    1897-45-6          Chlorothalonil         0.004   \n",
              "mixture        mixture                  MCI/MI         0.005   \n",
              "106-51-4      106-51-4        1,4-Benzoquinone          0.01   \n",
              "\n",
              "            logLLNAthreshold  logMinhCLAT  logDPRA  logImax  logMAC    EC3  \\\n",
              "CASRN                                                                        \n",
              "886-38-4             -2.5229        0.593   1.7118   1.2281   2.666  0.003   \n",
              "15646-46-5           -2.5229        0.433   1.6390   0.2086   1.765  0.003   \n",
              "1897-45-6            -2.3979       -0.678   1.7071   1.2956   1.702  0.004   \n",
              "mixture              -2.3010        0.344   1.7292   0.4691   1.794  0.005   \n",
              "106-51-4             -2.0044        0.350   1.9680   1.7092   1.614   0.01   \n",
              "\n",
              "           LLNA_Threshold GHS_Category hCLAT_Call DPRA_Call ARE_Call SH_Call  \\\n",
              "CASRN                                                                          \n",
              "886-38-4            0.003           1A          P         P        P       P   \n",
              "15646-46-5          0.003           1A          P         P        P       P   \n",
              "1897-45-6           0.004           1A          P         P        P       P   \n",
              "mixture             0.005           1A          P         P        P       P   \n",
              "106-51-4             0.01           1A          P         P        P       P   \n",
              "\n",
              "            Pred_LLNAthreshold Pred_PotencyCategory LLNA_Category  \n",
              "CASRN                                                              \n",
              "886-38-4                  0.35    Extreme or Strong       Extreme  \n",
              "15646-46-5                0.20    Extreme or Strong       Extreme  \n",
              "1897-45-6                 0.02    Extreme or Strong       Extreme  \n",
              "mixture                   0.13    Extreme or Strong       Extreme  \n",
              "106-51-4                  0.13    Extreme or Strong       Extreme  "
            ],
            "text/html": [
              "\n",
              "  <div id=\"df-7a956d6c-cc16-4e34-a37d-8cdc4d11e51a\">\n",
              "    <div class=\"colab-df-container\">\n",
              "      <div>\n",
              "<style scoped>\n",
              "    .dataframe tbody tr th:only-of-type {\n",
              "        vertical-align: middle;\n",
              "    }\n",
              "\n",
              "    .dataframe tbody tr th {\n",
              "        vertical-align: top;\n",
              "    }\n",
              "\n",
              "    .dataframe thead th {\n",
              "        text-align: right;\n",
              "    }\n",
              "</style>\n",
              "<table border=\"1\" class=\"dataframe\">\n",
              "  <thead>\n",
              "    <tr style=\"text-align: right;\">\n",
              "      <th></th>\n",
              "      <th>CASRN</th>\n",
              "      <th>Chemical</th>\n",
              "      <th>LLNAthreshold</th>\n",
              "      <th>logLLNAthreshold</th>\n",
              "      <th>logMinhCLAT</th>\n",
              "      <th>logDPRA</th>\n",
              "      <th>logImax</th>\n",
              "      <th>logMAC</th>\n",
              "      <th>EC3</th>\n",
              "      <th>LLNA_Threshold</th>\n",
              "      <th>GHS_Category</th>\n",
              "      <th>hCLAT_Call</th>\n",
              "      <th>DPRA_Call</th>\n",
              "      <th>ARE_Call</th>\n",
              "      <th>SH_Call</th>\n",
              "      <th>Pred_LLNAthreshold</th>\n",
              "      <th>Pred_PotencyCategory</th>\n",
              "      <th>LLNA_Category</th>\n",
              "    </tr>\n",
              "    <tr>\n",
              "      <th>CASRN</th>\n",
              "      <th></th>\n",
              "      <th></th>\n",
              "      <th></th>\n",
              "      <th></th>\n",
              "      <th></th>\n",
              "      <th></th>\n",
              "      <th></th>\n",
              "      <th></th>\n",
              "      <th></th>\n",
              "      <th></th>\n",
              "      <th></th>\n",
              "      <th></th>\n",
              "      <th></th>\n",
              "      <th></th>\n",
              "      <th></th>\n",
              "      <th></th>\n",
              "      <th></th>\n",
              "      <th></th>\n",
              "    </tr>\n",
              "  </thead>\n",
              "  <tbody>\n",
              "    <tr>\n",
              "      <th>886-38-4</th>\n",
              "      <td>886-38-4</td>\n",
              "      <td>Diphenylcyclopropenone</td>\n",
              "      <td>0.003</td>\n",
              "      <td>-2.5229</td>\n",
              "      <td>0.593</td>\n",
              "      <td>1.7118</td>\n",
              "      <td>1.2281</td>\n",
              "      <td>2.666</td>\n",
              "      <td>0.003</td>\n",
              "      <td>0.003</td>\n",
              "      <td>1A</td>\n",
              "      <td>P</td>\n",
              "      <td>P</td>\n",
              "      <td>P</td>\n",
              "      <td>P</td>\n",
              "      <td>0.35</td>\n",
              "      <td>Extreme or Strong</td>\n",
              "      <td>Extreme</td>\n",
              "    </tr>\n",
              "    <tr>\n",
              "      <th>15646-46-5</th>\n",
              "      <td>15646-46-5</td>\n",
              "      <td>Oxazolone</td>\n",
              "      <td>0.003</td>\n",
              "      <td>-2.5229</td>\n",
              "      <td>0.433</td>\n",
              "      <td>1.6390</td>\n",
              "      <td>0.2086</td>\n",
              "      <td>1.765</td>\n",
              "      <td>0.003</td>\n",
              "      <td>0.003</td>\n",
              "      <td>1A</td>\n",
              "      <td>P</td>\n",
              "      <td>P</td>\n",
              "      <td>P</td>\n",
              "      <td>P</td>\n",
              "      <td>0.20</td>\n",
              "      <td>Extreme or Strong</td>\n",
              "      <td>Extreme</td>\n",
              "    </tr>\n",
              "    <tr>\n",
              "      <th>1897-45-6</th>\n",
              "      <td>1897-45-6</td>\n",
              "      <td>Chlorothalonil</td>\n",
              "      <td>0.004</td>\n",
              "      <td>-2.3979</td>\n",
              "      <td>-0.678</td>\n",
              "      <td>1.7071</td>\n",
              "      <td>1.2956</td>\n",
              "      <td>1.702</td>\n",
              "      <td>0.004</td>\n",
              "      <td>0.004</td>\n",
              "      <td>1A</td>\n",
              "      <td>P</td>\n",
              "      <td>P</td>\n",
              "      <td>P</td>\n",
              "      <td>P</td>\n",
              "      <td>0.02</td>\n",
              "      <td>Extreme or Strong</td>\n",
              "      <td>Extreme</td>\n",
              "    </tr>\n",
              "    <tr>\n",
              "      <th>mixture</th>\n",
              "      <td>mixture</td>\n",
              "      <td>MCI/MI</td>\n",
              "      <td>0.005</td>\n",
              "      <td>-2.3010</td>\n",
              "      <td>0.344</td>\n",
              "      <td>1.7292</td>\n",
              "      <td>0.4691</td>\n",
              "      <td>1.794</td>\n",
              "      <td>0.005</td>\n",
              "      <td>0.005</td>\n",
              "      <td>1A</td>\n",
              "      <td>P</td>\n",
              "      <td>P</td>\n",
              "      <td>P</td>\n",
              "      <td>P</td>\n",
              "      <td>0.13</td>\n",
              "      <td>Extreme or Strong</td>\n",
              "      <td>Extreme</td>\n",
              "    </tr>\n",
              "    <tr>\n",
              "      <th>106-51-4</th>\n",
              "      <td>106-51-4</td>\n",
              "      <td>1,4-Benzoquinone</td>\n",
              "      <td>0.01</td>\n",
              "      <td>-2.0044</td>\n",
              "      <td>0.350</td>\n",
              "      <td>1.9680</td>\n",
              "      <td>1.7092</td>\n",
              "      <td>1.614</td>\n",
              "      <td>0.01</td>\n",
              "      <td>0.01</td>\n",
              "      <td>1A</td>\n",
              "      <td>P</td>\n",
              "      <td>P</td>\n",
              "      <td>P</td>\n",
              "      <td>P</td>\n",
              "      <td>0.13</td>\n",
              "      <td>Extreme or Strong</td>\n",
              "      <td>Extreme</td>\n",
              "    </tr>\n",
              "  </tbody>\n",
              "</table>\n",
              "</div>\n",
              "      <button class=\"colab-df-convert\" onclick=\"convertToInteractive('df-7a956d6c-cc16-4e34-a37d-8cdc4d11e51a')\"\n",
              "              title=\"Convert this dataframe to an interactive table.\"\n",
              "              style=\"display:none;\">\n",
              "        \n",
              "  <svg xmlns=\"http://www.w3.org/2000/svg\" height=\"24px\"viewBox=\"0 0 24 24\"\n",
              "       width=\"24px\">\n",
              "    <path d=\"M0 0h24v24H0V0z\" fill=\"none\"/>\n",
              "    <path d=\"M18.56 5.44l.94 2.06.94-2.06 2.06-.94-2.06-.94-.94-2.06-.94 2.06-2.06.94zm-11 1L8.5 8.5l.94-2.06 2.06-.94-2.06-.94L8.5 2.5l-.94 2.06-2.06.94zm10 10l.94 2.06.94-2.06 2.06-.94-2.06-.94-.94-2.06-.94 2.06-2.06.94z\"/><path d=\"M17.41 7.96l-1.37-1.37c-.4-.4-.92-.59-1.43-.59-.52 0-1.04.2-1.43.59L10.3 9.45l-7.72 7.72c-.78.78-.78 2.05 0 2.83L4 21.41c.39.39.9.59 1.41.59.51 0 1.02-.2 1.41-.59l7.78-7.78 2.81-2.81c.8-.78.8-2.07 0-2.86zM5.41 20L4 18.59l7.72-7.72 1.47 1.35L5.41 20z\"/>\n",
              "  </svg>\n",
              "      </button>\n",
              "      \n",
              "  <style>\n",
              "    .colab-df-container {\n",
              "      display:flex;\n",
              "      flex-wrap:wrap;\n",
              "      gap: 12px;\n",
              "    }\n",
              "\n",
              "    .colab-df-convert {\n",
              "      background-color: #E8F0FE;\n",
              "      border: none;\n",
              "      border-radius: 50%;\n",
              "      cursor: pointer;\n",
              "      display: none;\n",
              "      fill: #1967D2;\n",
              "      height: 32px;\n",
              "      padding: 0 0 0 0;\n",
              "      width: 32px;\n",
              "    }\n",
              "\n",
              "    .colab-df-convert:hover {\n",
              "      background-color: #E2EBFA;\n",
              "      box-shadow: 0px 1px 2px rgba(60, 64, 67, 0.3), 0px 1px 3px 1px rgba(60, 64, 67, 0.15);\n",
              "      fill: #174EA6;\n",
              "    }\n",
              "\n",
              "    [theme=dark] .colab-df-convert {\n",
              "      background-color: #3B4455;\n",
              "      fill: #D2E3FC;\n",
              "    }\n",
              "\n",
              "    [theme=dark] .colab-df-convert:hover {\n",
              "      background-color: #434B5C;\n",
              "      box-shadow: 0px 1px 3px 1px rgba(0, 0, 0, 0.15);\n",
              "      filter: drop-shadow(0px 1px 2px rgba(0, 0, 0, 0.3));\n",
              "      fill: #FFFFFF;\n",
              "    }\n",
              "  </style>\n",
              "\n",
              "      <script>\n",
              "        const buttonEl =\n",
              "          document.querySelector('#df-7a956d6c-cc16-4e34-a37d-8cdc4d11e51a button.colab-df-convert');\n",
              "        buttonEl.style.display =\n",
              "          google.colab.kernel.accessAllowed ? 'block' : 'none';\n",
              "\n",
              "        async function convertToInteractive(key) {\n",
              "          const element = document.querySelector('#df-7a956d6c-cc16-4e34-a37d-8cdc4d11e51a');\n",
              "          const dataTable =\n",
              "            await google.colab.kernel.invokeFunction('convertToInteractive',\n",
              "                                                     [key], {});\n",
              "          if (!dataTable) return;\n",
              "\n",
              "          const docLinkHtml = 'Like what you see? Visit the ' +\n",
              "            '<a target=\"_blank\" href=https://colab.research.google.com/notebooks/data_table.ipynb>data table notebook</a>'\n",
              "            + ' to learn more about interactive tables.';\n",
              "          element.innerHTML = '';\n",
              "          dataTable['output_type'] = 'display_data';\n",
              "          await google.colab.output.renderOutput(dataTable, element);\n",
              "          const docLink = document.createElement('div');\n",
              "          docLink.innerHTML = docLinkHtml;\n",
              "          element.appendChild(docLink);\n",
              "        }\n",
              "      </script>\n",
              "    </div>\n",
              "  </div>\n",
              "  "
            ]
          },
          "metadata": {},
          "execution_count": 1
        }
      ],
      "source": [
        "#Import files and read Hirota's dataset\n",
        "import io\n",
        "from google.colab import files\n",
        "uploaded=files.upload()\n",
        "import pandas as pd\n",
        "import numpy as np\n",
        "df=pd.read_csv(io.BytesIO(uploaded['Hirota_2015_Updated_Clean_092515 (2).csv']))\n",
        "df[\"CASRN\"] = df[\"CASRN\"].astype(str)\n",
        "df.index = df[\"CASRN\"]\n",
        "df.head()"
      ]
    },
    {
      "cell_type": "code",
      "execution_count": 2,
      "metadata": {
        "id": "q_UQxBeJUbZt"
      },
      "outputs": [],
      "source": [
        "#import all library and dependecies\n",
        "import matplotlib.pyplot as plt \n",
        "import seaborn as sns\n",
        "from sklearn.neural_network import MLPRegressor\n",
        "from sklearn.model_selection import train_test_split\n",
        "from sklearn.preprocessing import StandardScaler\n",
        "from sklearn.preprocessing import MinMaxScaler\n",
        "from sklearn.metrics import r2_score\n",
        "from sklearn.metrics import mean_squared_error\n",
        "from sklearn.model_selection import cross_validate,LeaveOneOut,cross_val_predict\n",
        "from sklearn.model_selection import KFold\n",
        "from sklearn.model_selection import cross_val_score\n",
        "from sklearn.feature_selection import RFE\n",
        "from sklearn.model_selection import GridSearchCV\n",
        "import warnings # supress warnings\n",
        "from sklearn import metrics\n",
        "from numpy import mean\n",
        "from numpy import absolute\n",
        "from numpy import sqrt\n",
        "warnings.filterwarnings('ignore')"
      ]
    },
    {
      "cell_type": "code",
      "execution_count": 3,
      "metadata": {
        "colab": {
          "base_uri": "https://localhost:8080/"
        },
        "id": "Hr0mGTJOUHnI",
        "outputId": "75e0ef74-8704-41b3-e95e-c1f5e9e45d24"
      },
      "outputs": [
        {
          "output_type": "execute_result",
          "data": {
            "text/plain": [
              "69"
            ]
          },
          "metadata": {},
          "execution_count": 3
        }
      ],
      "source": [
        "#drop all incomplete datapiont\n",
        "df1=df.dropna(subset=['logDPRA','logImax'])\n",
        "len(df1)"
      ]
    },
    {
      "cell_type": "code",
      "execution_count": 4,
      "metadata": {
        "colab": {
          "base_uri": "https://localhost:8080/",
          "height": 73
        },
        "id": "VSQ6xLSZauo_",
        "outputId": "ed89b4f7-0cd7-44c3-8190-46e0924b7d25"
      },
      "outputs": [
        {
          "output_type": "display_data",
          "data": {
            "text/plain": [
              "<IPython.core.display.HTML object>"
            ],
            "text/html": [
              "\n",
              "     <input type=\"file\" id=\"files-73969ba8-d43c-4503-a90c-97f866dba428\" name=\"files[]\" multiple disabled\n",
              "        style=\"border:none\" />\n",
              "     <output id=\"result-73969ba8-d43c-4503-a90c-97f866dba428\">\n",
              "      Upload widget is only available when the cell has been executed in the\n",
              "      current browser session. Please rerun this cell to enable.\n",
              "      </output>\n",
              "      <script>// Copyright 2017 Google LLC\n",
              "//\n",
              "// Licensed under the Apache License, Version 2.0 (the \"License\");\n",
              "// you may not use this file except in compliance with the License.\n",
              "// You may obtain a copy of the License at\n",
              "//\n",
              "//      http://www.apache.org/licenses/LICENSE-2.0\n",
              "//\n",
              "// Unless required by applicable law or agreed to in writing, software\n",
              "// distributed under the License is distributed on an \"AS IS\" BASIS,\n",
              "// WITHOUT WARRANTIES OR CONDITIONS OF ANY KIND, either express or implied.\n",
              "// See the License for the specific language governing permissions and\n",
              "// limitations under the License.\n",
              "\n",
              "/**\n",
              " * @fileoverview Helpers for google.colab Python module.\n",
              " */\n",
              "(function(scope) {\n",
              "function span(text, styleAttributes = {}) {\n",
              "  const element = document.createElement('span');\n",
              "  element.textContent = text;\n",
              "  for (const key of Object.keys(styleAttributes)) {\n",
              "    element.style[key] = styleAttributes[key];\n",
              "  }\n",
              "  return element;\n",
              "}\n",
              "\n",
              "// Max number of bytes which will be uploaded at a time.\n",
              "const MAX_PAYLOAD_SIZE = 100 * 1024;\n",
              "\n",
              "function _uploadFiles(inputId, outputId) {\n",
              "  const steps = uploadFilesStep(inputId, outputId);\n",
              "  const outputElement = document.getElementById(outputId);\n",
              "  // Cache steps on the outputElement to make it available for the next call\n",
              "  // to uploadFilesContinue from Python.\n",
              "  outputElement.steps = steps;\n",
              "\n",
              "  return _uploadFilesContinue(outputId);\n",
              "}\n",
              "\n",
              "// This is roughly an async generator (not supported in the browser yet),\n",
              "// where there are multiple asynchronous steps and the Python side is going\n",
              "// to poll for completion of each step.\n",
              "// This uses a Promise to block the python side on completion of each step,\n",
              "// then passes the result of the previous step as the input to the next step.\n",
              "function _uploadFilesContinue(outputId) {\n",
              "  const outputElement = document.getElementById(outputId);\n",
              "  const steps = outputElement.steps;\n",
              "\n",
              "  const next = steps.next(outputElement.lastPromiseValue);\n",
              "  return Promise.resolve(next.value.promise).then((value) => {\n",
              "    // Cache the last promise value to make it available to the next\n",
              "    // step of the generator.\n",
              "    outputElement.lastPromiseValue = value;\n",
              "    return next.value.response;\n",
              "  });\n",
              "}\n",
              "\n",
              "/**\n",
              " * Generator function which is called between each async step of the upload\n",
              " * process.\n",
              " * @param {string} inputId Element ID of the input file picker element.\n",
              " * @param {string} outputId Element ID of the output display.\n",
              " * @return {!Iterable<!Object>} Iterable of next steps.\n",
              " */\n",
              "function* uploadFilesStep(inputId, outputId) {\n",
              "  const inputElement = document.getElementById(inputId);\n",
              "  inputElement.disabled = false;\n",
              "\n",
              "  const outputElement = document.getElementById(outputId);\n",
              "  outputElement.innerHTML = '';\n",
              "\n",
              "  const pickedPromise = new Promise((resolve) => {\n",
              "    inputElement.addEventListener('change', (e) => {\n",
              "      resolve(e.target.files);\n",
              "    });\n",
              "  });\n",
              "\n",
              "  const cancel = document.createElement('button');\n",
              "  inputElement.parentElement.appendChild(cancel);\n",
              "  cancel.textContent = 'Cancel upload';\n",
              "  const cancelPromise = new Promise((resolve) => {\n",
              "    cancel.onclick = () => {\n",
              "      resolve(null);\n",
              "    };\n",
              "  });\n",
              "\n",
              "  // Wait for the user to pick the files.\n",
              "  const files = yield {\n",
              "    promise: Promise.race([pickedPromise, cancelPromise]),\n",
              "    response: {\n",
              "      action: 'starting',\n",
              "    }\n",
              "  };\n",
              "\n",
              "  cancel.remove();\n",
              "\n",
              "  // Disable the input element since further picks are not allowed.\n",
              "  inputElement.disabled = true;\n",
              "\n",
              "  if (!files) {\n",
              "    return {\n",
              "      response: {\n",
              "        action: 'complete',\n",
              "      }\n",
              "    };\n",
              "  }\n",
              "\n",
              "  for (const file of files) {\n",
              "    const li = document.createElement('li');\n",
              "    li.append(span(file.name, {fontWeight: 'bold'}));\n",
              "    li.append(span(\n",
              "        `(${file.type || 'n/a'}) - ${file.size} bytes, ` +\n",
              "        `last modified: ${\n",
              "            file.lastModifiedDate ? file.lastModifiedDate.toLocaleDateString() :\n",
              "                                    'n/a'} - `));\n",
              "    const percent = span('0% done');\n",
              "    li.appendChild(percent);\n",
              "\n",
              "    outputElement.appendChild(li);\n",
              "\n",
              "    const fileDataPromise = new Promise((resolve) => {\n",
              "      const reader = new FileReader();\n",
              "      reader.onload = (e) => {\n",
              "        resolve(e.target.result);\n",
              "      };\n",
              "      reader.readAsArrayBuffer(file);\n",
              "    });\n",
              "    // Wait for the data to be ready.\n",
              "    let fileData = yield {\n",
              "      promise: fileDataPromise,\n",
              "      response: {\n",
              "        action: 'continue',\n",
              "      }\n",
              "    };\n",
              "\n",
              "    // Use a chunked sending to avoid message size limits. See b/62115660.\n",
              "    let position = 0;\n",
              "    do {\n",
              "      const length = Math.min(fileData.byteLength - position, MAX_PAYLOAD_SIZE);\n",
              "      const chunk = new Uint8Array(fileData, position, length);\n",
              "      position += length;\n",
              "\n",
              "      const base64 = btoa(String.fromCharCode.apply(null, chunk));\n",
              "      yield {\n",
              "        response: {\n",
              "          action: 'append',\n",
              "          file: file.name,\n",
              "          data: base64,\n",
              "        },\n",
              "      };\n",
              "\n",
              "      let percentDone = fileData.byteLength === 0 ?\n",
              "          100 :\n",
              "          Math.round((position / fileData.byteLength) * 100);\n",
              "      percent.textContent = `${percentDone}% done`;\n",
              "\n",
              "    } while (position < fileData.byteLength);\n",
              "  }\n",
              "\n",
              "  // All done.\n",
              "  yield {\n",
              "    response: {\n",
              "      action: 'complete',\n",
              "    }\n",
              "  };\n",
              "}\n",
              "\n",
              "scope.google = scope.google || {};\n",
              "scope.google.colab = scope.google.colab || {};\n",
              "scope.google.colab._files = {\n",
              "  _uploadFiles,\n",
              "  _uploadFilesContinue,\n",
              "};\n",
              "})(self);\n",
              "</script> "
            ]
          },
          "metadata": {}
        },
        {
          "output_type": "stream",
          "name": "stdout",
          "text": [
            "Saving CosEu_invitro_insilico_128chems_Jan2017.csv to CosEu_invitro_insilico_128chems_Jan2017.csv\n"
          ]
        }
      ],
      "source": [
        "#import Read Cosmetic Europe in vitro data, physchem properties, OECD Toolbox predictions\n",
        "uploaded=files.upload()\n",
        "df2=pd.read_csv(io.BytesIO(uploaded['CosEu_invitro_insilico_128chems_Jan2017.csv']))\n",
        "df2[\"CASRN\"] = df2[\"CASRN\"].str.strip()\n",
        "df2 = df2.sort_values(by=\"Num\")\n",
        "df2=df2"
      ]
    },
    {
      "cell_type": "code",
      "execution_count": 5,
      "metadata": {
        "id": "Wl2yst8Sa4r5"
      },
      "outputs": [],
      "source": [
        "#Replace negative values in DPRA.mean column with 0\n",
        "df2['DPRA.mean']=df2['DPRA.mean'].clip(lower=0)\n",
        "# Remove rows with missing values in DPRA.Call or hCLAT.Call columns\n",
        "df2.dropna(subset=['DPRA.Call','hCLAT.Call'],inplace=True)\n"
      ]
    },
    {
      "cell_type": "code",
      "execution_count": 6,
      "metadata": {
        "colab": {
          "base_uri": "https://localhost:8080/",
          "height": 73
        },
        "id": "ko0FrExOa_z1",
        "outputId": "03d4b7f4-5c6b-496a-a978-b8a58dddb2df"
      },
      "outputs": [
        {
          "output_type": "display_data",
          "data": {
            "text/plain": [
              "<IPython.core.display.HTML object>"
            ],
            "text/html": [
              "\n",
              "     <input type=\"file\" id=\"files-06070976-7e81-4307-9a42-adacb4f70639\" name=\"files[]\" multiple disabled\n",
              "        style=\"border:none\" />\n",
              "     <output id=\"result-06070976-7e81-4307-9a42-adacb4f70639\">\n",
              "      Upload widget is only available when the cell has been executed in the\n",
              "      current browser session. Please rerun this cell to enable.\n",
              "      </output>\n",
              "      <script>// Copyright 2017 Google LLC\n",
              "//\n",
              "// Licensed under the Apache License, Version 2.0 (the \"License\");\n",
              "// you may not use this file except in compliance with the License.\n",
              "// You may obtain a copy of the License at\n",
              "//\n",
              "//      http://www.apache.org/licenses/LICENSE-2.0\n",
              "//\n",
              "// Unless required by applicable law or agreed to in writing, software\n",
              "// distributed under the License is distributed on an \"AS IS\" BASIS,\n",
              "// WITHOUT WARRANTIES OR CONDITIONS OF ANY KIND, either express or implied.\n",
              "// See the License for the specific language governing permissions and\n",
              "// limitations under the License.\n",
              "\n",
              "/**\n",
              " * @fileoverview Helpers for google.colab Python module.\n",
              " */\n",
              "(function(scope) {\n",
              "function span(text, styleAttributes = {}) {\n",
              "  const element = document.createElement('span');\n",
              "  element.textContent = text;\n",
              "  for (const key of Object.keys(styleAttributes)) {\n",
              "    element.style[key] = styleAttributes[key];\n",
              "  }\n",
              "  return element;\n",
              "}\n",
              "\n",
              "// Max number of bytes which will be uploaded at a time.\n",
              "const MAX_PAYLOAD_SIZE = 100 * 1024;\n",
              "\n",
              "function _uploadFiles(inputId, outputId) {\n",
              "  const steps = uploadFilesStep(inputId, outputId);\n",
              "  const outputElement = document.getElementById(outputId);\n",
              "  // Cache steps on the outputElement to make it available for the next call\n",
              "  // to uploadFilesContinue from Python.\n",
              "  outputElement.steps = steps;\n",
              "\n",
              "  return _uploadFilesContinue(outputId);\n",
              "}\n",
              "\n",
              "// This is roughly an async generator (not supported in the browser yet),\n",
              "// where there are multiple asynchronous steps and the Python side is going\n",
              "// to poll for completion of each step.\n",
              "// This uses a Promise to block the python side on completion of each step,\n",
              "// then passes the result of the previous step as the input to the next step.\n",
              "function _uploadFilesContinue(outputId) {\n",
              "  const outputElement = document.getElementById(outputId);\n",
              "  const steps = outputElement.steps;\n",
              "\n",
              "  const next = steps.next(outputElement.lastPromiseValue);\n",
              "  return Promise.resolve(next.value.promise).then((value) => {\n",
              "    // Cache the last promise value to make it available to the next\n",
              "    // step of the generator.\n",
              "    outputElement.lastPromiseValue = value;\n",
              "    return next.value.response;\n",
              "  });\n",
              "}\n",
              "\n",
              "/**\n",
              " * Generator function which is called between each async step of the upload\n",
              " * process.\n",
              " * @param {string} inputId Element ID of the input file picker element.\n",
              " * @param {string} outputId Element ID of the output display.\n",
              " * @return {!Iterable<!Object>} Iterable of next steps.\n",
              " */\n",
              "function* uploadFilesStep(inputId, outputId) {\n",
              "  const inputElement = document.getElementById(inputId);\n",
              "  inputElement.disabled = false;\n",
              "\n",
              "  const outputElement = document.getElementById(outputId);\n",
              "  outputElement.innerHTML = '';\n",
              "\n",
              "  const pickedPromise = new Promise((resolve) => {\n",
              "    inputElement.addEventListener('change', (e) => {\n",
              "      resolve(e.target.files);\n",
              "    });\n",
              "  });\n",
              "\n",
              "  const cancel = document.createElement('button');\n",
              "  inputElement.parentElement.appendChild(cancel);\n",
              "  cancel.textContent = 'Cancel upload';\n",
              "  const cancelPromise = new Promise((resolve) => {\n",
              "    cancel.onclick = () => {\n",
              "      resolve(null);\n",
              "    };\n",
              "  });\n",
              "\n",
              "  // Wait for the user to pick the files.\n",
              "  const files = yield {\n",
              "    promise: Promise.race([pickedPromise, cancelPromise]),\n",
              "    response: {\n",
              "      action: 'starting',\n",
              "    }\n",
              "  };\n",
              "\n",
              "  cancel.remove();\n",
              "\n",
              "  // Disable the input element since further picks are not allowed.\n",
              "  inputElement.disabled = true;\n",
              "\n",
              "  if (!files) {\n",
              "    return {\n",
              "      response: {\n",
              "        action: 'complete',\n",
              "      }\n",
              "    };\n",
              "  }\n",
              "\n",
              "  for (const file of files) {\n",
              "    const li = document.createElement('li');\n",
              "    li.append(span(file.name, {fontWeight: 'bold'}));\n",
              "    li.append(span(\n",
              "        `(${file.type || 'n/a'}) - ${file.size} bytes, ` +\n",
              "        `last modified: ${\n",
              "            file.lastModifiedDate ? file.lastModifiedDate.toLocaleDateString() :\n",
              "                                    'n/a'} - `));\n",
              "    const percent = span('0% done');\n",
              "    li.appendChild(percent);\n",
              "\n",
              "    outputElement.appendChild(li);\n",
              "\n",
              "    const fileDataPromise = new Promise((resolve) => {\n",
              "      const reader = new FileReader();\n",
              "      reader.onload = (e) => {\n",
              "        resolve(e.target.result);\n",
              "      };\n",
              "      reader.readAsArrayBuffer(file);\n",
              "    });\n",
              "    // Wait for the data to be ready.\n",
              "    let fileData = yield {\n",
              "      promise: fileDataPromise,\n",
              "      response: {\n",
              "        action: 'continue',\n",
              "      }\n",
              "    };\n",
              "\n",
              "    // Use a chunked sending to avoid message size limits. See b/62115660.\n",
              "    let position = 0;\n",
              "    do {\n",
              "      const length = Math.min(fileData.byteLength - position, MAX_PAYLOAD_SIZE);\n",
              "      const chunk = new Uint8Array(fileData, position, length);\n",
              "      position += length;\n",
              "\n",
              "      const base64 = btoa(String.fromCharCode.apply(null, chunk));\n",
              "      yield {\n",
              "        response: {\n",
              "          action: 'append',\n",
              "          file: file.name,\n",
              "          data: base64,\n",
              "        },\n",
              "      };\n",
              "\n",
              "      let percentDone = fileData.byteLength === 0 ?\n",
              "          100 :\n",
              "          Math.round((position / fileData.byteLength) * 100);\n",
              "      percent.textContent = `${percentDone}% done`;\n",
              "\n",
              "    } while (position < fileData.byteLength);\n",
              "  }\n",
              "\n",
              "  // All done.\n",
              "  yield {\n",
              "    response: {\n",
              "      action: 'complete',\n",
              "    }\n",
              "  };\n",
              "}\n",
              "\n",
              "scope.google = scope.google || {};\n",
              "scope.google.colab = scope.google.colab || {};\n",
              "scope.google.colab._files = {\n",
              "  _uploadFiles,\n",
              "  _uploadFilesContinue,\n",
              "};\n",
              "})(self);\n",
              "</script> "
            ]
          },
          "metadata": {}
        },
        {
          "output_type": "stream",
          "name": "stdout",
          "text": [
            "Saving CosEu_invivo_128chems_March2017.csv to CosEu_invivo_128chems_March2017.csv\n"
          ]
        }
      ],
      "source": [
        "#Import and read in vivo LLNA and human data\n",
        "uploaded=files.upload()\n",
        "df3=pd.read_csv(io.BytesIO(uploaded['CosEu_invivo_128chems_March2017.csv']))"
      ]
    },
    {
      "cell_type": "code",
      "execution_count": 7,
      "metadata": {
        "id": "nxrSorVHbI5L"
      },
      "outputs": [],
      "source": [
        "# select the rows where LLNA.Call.MNC is equal to 0\n",
        "df3['Median_NC.EC3'].fillna(0, inplace=True)\n",
        "# select the rows where LLNA.Call.MNC is equal to 0\n",
        "df3['Median_NC.EC3'].replace(0,100,inplace=True)"
      ]
    },
    {
      "cell_type": "code",
      "execution_count": 8,
      "metadata": {
        "id": "D-lPfDXrpIsj"
      },
      "outputs": [],
      "source": [
        "# remove the period (.) character from the column names and\n",
        "# replace multiple consecutive periods with underscores\n",
        "df3.columns = [col.replace(\".\", \"\").replace(\"(\\\\.)+\", \"_\") for col in df3.columns]\n",
        "# Check if all values in cosEuNegCons['Num'] are contained in cosEu['Num']\n",
        "#if all(df3[\"Num\"].isin(df2[\"Num\"])):\n",
        "# Merge the two data frames on the Num column\n",
        "CosEu= pd.merge(df2,df3, on=\"Num\", sort=False)\n",
        "# Replace instances of \"CASRN.x\" in column names with \"CASRN\"\n",
        "CosEu.columns = CosEu.columns.str.replace(\"CASRN.x\", \"CASRN\")\n",
        "CosEu.columns = CosEu.columns.str.replace(\"Median_NCEC3_x\", \"Median_NCEC3\")\n",
        "\n",
        "# Set the row names to the values in the CASRN column\n",
        "CosEu.index = CosEu[\"CASRN\"]\n",
        "CosEu[\"logLLNAthreshold\"]=df1[\"logLLNAthreshold\"]\n",
        "\n",
        "# Create a new column and store the logarithm (base 10) of the values in the Median_NC_EC3 column\n",
        "CosEu['log_Median_NC_EC3'] = np.log10(CosEu[\"Median_NCEC3\"])\n",
        "\n",
        "# Replace missing values in logLLNAthresholdMedNegCons with corresponding values in logLLNAthreshold\n",
        "CosEu[\"log_Median_NC_EC3\"].mask(\n",
        "    CosEu['log_Median_NC_EC3'].isna(),\n",
        "    CosEu[\"logLLNAthreshold\"],\n",
        "    inplace=True,)\n"
      ]
    },
    {
      "cell_type": "code",
      "execution_count": 9,
      "metadata": {
        "id": "8eA6DWLLfHJs"
      },
      "outputs": [],
      "source": [
        "#Applying logic to deal with negatives (If all model inputs are negative, prediction is negative)\n",
        "#CosEu['MODEL_PRED1']='Pos'\n",
        "col_list=[\"DPRA.Call\",\"hCLAT.Call\",'KS.Call']\n",
        "CosEu['Pos.Call.DH']=CosEu[col_list].sum(axis=1)\n",
        "CosEu['Model_pred']=CosEu['Pos.Call.DH'].apply(lambda x:'Neg' if x==0 else 'Pos')"
      ]
    },
    {
      "cell_type": "code",
      "execution_count": 10,
      "metadata": {
        "id": "H-UKyolWfMpr"
      },
      "outputs": [],
      "source": [
        "#Replace negatives in hCLAT with CV75\n",
        "CosEu['hCLAT.MIT']=CosEu['hCLAT.MIT'].replace(['Inf'], np.inf)\n",
        "CosEu.loc[CosEu['hCLAT.MIT'] == np.inf, 'hCLAT.MIT'] = CosEu.loc[CosEu['hCLAT.MIT'] == np.inf, 'h.CLAT.CV75']\n",
        "#Convert all h_CLAT Value to log 10 values\n",
        "CosEu['log_hCLAT_MIT']=np.log10(CosEu['hCLAT.MIT'])\n",
        "CosEu['log_KS.Imax']=np.log10(CosEu['KS.Imax'])\n"
      ]
    },
    {
      "cell_type": "code",
      "execution_count": 11,
      "metadata": {
        "colab": {
          "base_uri": "https://localhost:8080/",
          "height": 289
        },
        "id": "ZGpf4VRMf0R-",
        "outputId": "06f7a6e9-1251-4399-ec2c-e4e25683251c"
      },
      "outputs": [
        {
          "output_type": "execute_result",
          "data": {
            "text/plain": [
              "            Num                    Chemical_x       CASRN  U-SENS.Call  \\\n",
              "CASRN                                                                    \n",
              "35691-65-7    2  Methyldibromo glutaronitrile  35691-65-7          1.0   \n",
              "149-30-4      3       2-Mercaptobenzothiazole    149-30-4          1.0   \n",
              "\n",
              "           U-SENS.CD86.EC150 U-SENS.CV70  DPRA.Call  DPRA.percCysdep  \\\n",
              "CASRN                                                                  \n",
              "35691-65-7                 3           5        1.0            100.0   \n",
              "149-30-4                  40          80        1.0             97.5   \n",
              "\n",
              "            DPRA.percLysdep  DPRA.mean  ... humanCall  humanpotency3class  \\\n",
              "CASRN                                   ...                                 \n",
              "35691-65-7             28.6      64.30  ...         1              Strong   \n",
              "149-30-4                0.0      48.75  ...         1                Weak   \n",
              "\n",
              "            humanpotency5class  logLLNAthreshold  log_Median_NC_EC3  \\\n",
              "CASRN                                                                 \n",
              "35691-65-7              Strong           -0.0458          -0.045757   \n",
              "149-30-4              Moderate            0.2304           0.414973   \n",
              "\n",
              "            Pos.Call.DH  Model_pred  log_hCLAT_MIT  log_KS.Imax  log_DPRA_mean  \n",
              "CASRN                                                                           \n",
              "35691-65-7          3.0         Pos       0.974051     0.605305       1.808211  \n",
              "149-30-4            3.0         Pos       1.759668     0.945961       1.687975  \n",
              "\n",
              "[2 rows x 58 columns]"
            ],
            "text/html": [
              "\n",
              "  <div id=\"df-efd94f18-a65f-40e9-b6e4-80be9cb2e682\">\n",
              "    <div class=\"colab-df-container\">\n",
              "      <div>\n",
              "<style scoped>\n",
              "    .dataframe tbody tr th:only-of-type {\n",
              "        vertical-align: middle;\n",
              "    }\n",
              "\n",
              "    .dataframe tbody tr th {\n",
              "        vertical-align: top;\n",
              "    }\n",
              "\n",
              "    .dataframe thead th {\n",
              "        text-align: right;\n",
              "    }\n",
              "</style>\n",
              "<table border=\"1\" class=\"dataframe\">\n",
              "  <thead>\n",
              "    <tr style=\"text-align: right;\">\n",
              "      <th></th>\n",
              "      <th>Num</th>\n",
              "      <th>Chemical_x</th>\n",
              "      <th>CASRN</th>\n",
              "      <th>U-SENS.Call</th>\n",
              "      <th>U-SENS.CD86.EC150</th>\n",
              "      <th>U-SENS.CV70</th>\n",
              "      <th>DPRA.Call</th>\n",
              "      <th>DPRA.percCysdep</th>\n",
              "      <th>DPRA.percLysdep</th>\n",
              "      <th>DPRA.mean</th>\n",
              "      <th>...</th>\n",
              "      <th>humanCall</th>\n",
              "      <th>humanpotency3class</th>\n",
              "      <th>humanpotency5class</th>\n",
              "      <th>logLLNAthreshold</th>\n",
              "      <th>log_Median_NC_EC3</th>\n",
              "      <th>Pos.Call.DH</th>\n",
              "      <th>Model_pred</th>\n",
              "      <th>log_hCLAT_MIT</th>\n",
              "      <th>log_KS.Imax</th>\n",
              "      <th>log_DPRA_mean</th>\n",
              "    </tr>\n",
              "    <tr>\n",
              "      <th>CASRN</th>\n",
              "      <th></th>\n",
              "      <th></th>\n",
              "      <th></th>\n",
              "      <th></th>\n",
              "      <th></th>\n",
              "      <th></th>\n",
              "      <th></th>\n",
              "      <th></th>\n",
              "      <th></th>\n",
              "      <th></th>\n",
              "      <th></th>\n",
              "      <th></th>\n",
              "      <th></th>\n",
              "      <th></th>\n",
              "      <th></th>\n",
              "      <th></th>\n",
              "      <th></th>\n",
              "      <th></th>\n",
              "      <th></th>\n",
              "      <th></th>\n",
              "      <th></th>\n",
              "    </tr>\n",
              "  </thead>\n",
              "  <tbody>\n",
              "    <tr>\n",
              "      <th>35691-65-7</th>\n",
              "      <td>2</td>\n",
              "      <td>Methyldibromo glutaronitrile</td>\n",
              "      <td>35691-65-7</td>\n",
              "      <td>1.0</td>\n",
              "      <td>3</td>\n",
              "      <td>5</td>\n",
              "      <td>1.0</td>\n",
              "      <td>100.0</td>\n",
              "      <td>28.6</td>\n",
              "      <td>64.30</td>\n",
              "      <td>...</td>\n",
              "      <td>1</td>\n",
              "      <td>Strong</td>\n",
              "      <td>Strong</td>\n",
              "      <td>-0.0458</td>\n",
              "      <td>-0.045757</td>\n",
              "      <td>3.0</td>\n",
              "      <td>Pos</td>\n",
              "      <td>0.974051</td>\n",
              "      <td>0.605305</td>\n",
              "      <td>1.808211</td>\n",
              "    </tr>\n",
              "    <tr>\n",
              "      <th>149-30-4</th>\n",
              "      <td>3</td>\n",
              "      <td>2-Mercaptobenzothiazole</td>\n",
              "      <td>149-30-4</td>\n",
              "      <td>1.0</td>\n",
              "      <td>40</td>\n",
              "      <td>80</td>\n",
              "      <td>1.0</td>\n",
              "      <td>97.5</td>\n",
              "      <td>0.0</td>\n",
              "      <td>48.75</td>\n",
              "      <td>...</td>\n",
              "      <td>1</td>\n",
              "      <td>Weak</td>\n",
              "      <td>Moderate</td>\n",
              "      <td>0.2304</td>\n",
              "      <td>0.414973</td>\n",
              "      <td>3.0</td>\n",
              "      <td>Pos</td>\n",
              "      <td>1.759668</td>\n",
              "      <td>0.945961</td>\n",
              "      <td>1.687975</td>\n",
              "    </tr>\n",
              "  </tbody>\n",
              "</table>\n",
              "<p>2 rows × 58 columns</p>\n",
              "</div>\n",
              "      <button class=\"colab-df-convert\" onclick=\"convertToInteractive('df-efd94f18-a65f-40e9-b6e4-80be9cb2e682')\"\n",
              "              title=\"Convert this dataframe to an interactive table.\"\n",
              "              style=\"display:none;\">\n",
              "        \n",
              "  <svg xmlns=\"http://www.w3.org/2000/svg\" height=\"24px\"viewBox=\"0 0 24 24\"\n",
              "       width=\"24px\">\n",
              "    <path d=\"M0 0h24v24H0V0z\" fill=\"none\"/>\n",
              "    <path d=\"M18.56 5.44l.94 2.06.94-2.06 2.06-.94-2.06-.94-.94-2.06-.94 2.06-2.06.94zm-11 1L8.5 8.5l.94-2.06 2.06-.94-2.06-.94L8.5 2.5l-.94 2.06-2.06.94zm10 10l.94 2.06.94-2.06 2.06-.94-2.06-.94-.94-2.06-.94 2.06-2.06.94z\"/><path d=\"M17.41 7.96l-1.37-1.37c-.4-.4-.92-.59-1.43-.59-.52 0-1.04.2-1.43.59L10.3 9.45l-7.72 7.72c-.78.78-.78 2.05 0 2.83L4 21.41c.39.39.9.59 1.41.59.51 0 1.02-.2 1.41-.59l7.78-7.78 2.81-2.81c.8-.78.8-2.07 0-2.86zM5.41 20L4 18.59l7.72-7.72 1.47 1.35L5.41 20z\"/>\n",
              "  </svg>\n",
              "      </button>\n",
              "      \n",
              "  <style>\n",
              "    .colab-df-container {\n",
              "      display:flex;\n",
              "      flex-wrap:wrap;\n",
              "      gap: 12px;\n",
              "    }\n",
              "\n",
              "    .colab-df-convert {\n",
              "      background-color: #E8F0FE;\n",
              "      border: none;\n",
              "      border-radius: 50%;\n",
              "      cursor: pointer;\n",
              "      display: none;\n",
              "      fill: #1967D2;\n",
              "      height: 32px;\n",
              "      padding: 0 0 0 0;\n",
              "      width: 32px;\n",
              "    }\n",
              "\n",
              "    .colab-df-convert:hover {\n",
              "      background-color: #E2EBFA;\n",
              "      box-shadow: 0px 1px 2px rgba(60, 64, 67, 0.3), 0px 1px 3px 1px rgba(60, 64, 67, 0.15);\n",
              "      fill: #174EA6;\n",
              "    }\n",
              "\n",
              "    [theme=dark] .colab-df-convert {\n",
              "      background-color: #3B4455;\n",
              "      fill: #D2E3FC;\n",
              "    }\n",
              "\n",
              "    [theme=dark] .colab-df-convert:hover {\n",
              "      background-color: #434B5C;\n",
              "      box-shadow: 0px 1px 3px 1px rgba(0, 0, 0, 0.15);\n",
              "      filter: drop-shadow(0px 1px 2px rgba(0, 0, 0, 0.3));\n",
              "      fill: #FFFFFF;\n",
              "    }\n",
              "  </style>\n",
              "\n",
              "      <script>\n",
              "        const buttonEl =\n",
              "          document.querySelector('#df-efd94f18-a65f-40e9-b6e4-80be9cb2e682 button.colab-df-convert');\n",
              "        buttonEl.style.display =\n",
              "          google.colab.kernel.accessAllowed ? 'block' : 'none';\n",
              "\n",
              "        async function convertToInteractive(key) {\n",
              "          const element = document.querySelector('#df-efd94f18-a65f-40e9-b6e4-80be9cb2e682');\n",
              "          const dataTable =\n",
              "            await google.colab.kernel.invokeFunction('convertToInteractive',\n",
              "                                                     [key], {});\n",
              "          if (!dataTable) return;\n",
              "\n",
              "          const docLinkHtml = 'Like what you see? Visit the ' +\n",
              "            '<a target=\"_blank\" href=https://colab.research.google.com/notebooks/data_table.ipynb>data table notebook</a>'\n",
              "            + ' to learn more about interactive tables.';\n",
              "          element.innerHTML = '';\n",
              "          dataTable['output_type'] = 'display_data';\n",
              "          await google.colab.output.renderOutput(dataTable, element);\n",
              "          const docLink = document.createElement('div');\n",
              "          docLink.innerHTML = docLinkHtml;\n",
              "          element.appendChild(docLink);\n",
              "        }\n",
              "      </script>\n",
              "    </div>\n",
              "  </div>\n",
              "  "
            ]
          },
          "metadata": {},
          "execution_count": 11
        }
      ],
      "source": [
        "#Replace 0 in DPRA with 0.01\n",
        "CosEu['DPRA.mean']=CosEu['DPRA.mean'].clip(lower=0.01)\n",
        "CosEu['log_DPRA_mean']=np.log10(CosEu['DPRA.mean'])\n",
        "CosEu.head(2)"
      ]
    },
    {
      "cell_type": "code",
      "execution_count": 12,
      "metadata": {
        "colab": {
          "base_uri": "https://localhost:8080/"
        },
        "id": "Xr8ImmOtrdDw",
        "outputId": "1706d02b-5853-492c-c39e-d908c82b97bc"
      },
      "outputs": [
        {
          "output_type": "execute_result",
          "data": {
            "text/plain": [
              "127"
            ]
          },
          "metadata": {},
          "execution_count": 12
        }
      ],
      "source": [
        "#Checking for intesection between hirotashi dataset and merged invivo, invitro dataset using the CAS column\n",
        "#strip x suffix and prefix\n",
        "CosEu.columns = CosEu.columns.str.rstrip('_x')\n",
        "merge = pd.merge(df1, CosEu, left_index=True, right_index=True,how='right')\n",
        "ex_data=merge[['log_Median_NC_EC3','log_DPRA_mean','log_hCLAT_MIT','log_KS.Ima','Model_pred']]\n",
        "ex_data['log_hCLAT_MIT'].replace('inf','NA',inplace=True)\n",
        "ex_data= ex_data.replace('inf', np.NaN)\n",
        "ex_data.dropna(subset=['log_hCLAT_MIT','log_DPRA_mean'], inplace=True)\n",
        "ex_data.head(98)\n",
        "ex_data.head(2)\n",
        "len(ex_data)"
      ]
    },
    {
      "cell_type": "code",
      "execution_count": 13,
      "metadata": {
        "colab": {
          "base_uri": "https://localhost:8080/"
        },
        "id": "pK5gb-uOcFaH",
        "outputId": "1a2beb0c-affd-4dfb-c716-b3c800933d81"
      },
      "outputs": [
        {
          "output_type": "execute_result",
          "data": {
            "text/plain": [
              "log_DPRA_mean    0\n",
              "log_hCLAT_MIT    0\n",
              "dtype: int64"
            ]
          },
          "metadata": {},
          "execution_count": 13
        }
      ],
      "source": [
        "CosEu1=ex_data[ex_data['Model_pred']!='Neg']\n",
        "CosEu1.dropna()\n",
        "len(CosEu1)\n",
        "CosEu1['log_Median_NC_EC3'].isna().sum()\n",
        "CosEu1[['log_DPRA_mean','log_hCLAT_MIT']].isna().sum()"
      ]
    },
    {
      "cell_type": "code",
      "execution_count": 97,
      "metadata": {
        "id": "GCgpyf-xzQU1"
      },
      "outputs": [],
      "source": [
        "#Defining target and predictors\n",
        "TargetVariable=['logLLNAthreshold']\n",
        "Predictors=['logMinhCLAT','logDPRA','logImax']\n",
        "X=df1[Predictors].values\n",
        "y=df1[TargetVariable].values\n",
        "PredictorScaler=MinMaxScaler()\n",
        "TargetVarScaler=MinMaxScaler()\n",
        "#Storing the fit object for later reference\n",
        "PredictorScalerFit=PredictorScaler.fit(X)\n",
        "TargetVarScalerFit=TargetVarScaler.fit(y)\n",
        "# Generating the standardized values of X and y\n",
        "scaled_X=PredictorScalerFit.transform(X)\n",
        "scaled_y=TargetVarScalerFit.transform(y)"
      ]
    },
    {
      "cell_type": "code",
      "execution_count": 98,
      "metadata": {
        "colab": {
          "base_uri": "https://localhost:8080/"
        },
        "id": "rQ7GiAdzCgCM",
        "outputId": "e3100a7e-0d92-4b86-c6f3-7a1ed2bc120c"
      },
      "outputs": [
        {
          "output_type": "execute_result",
          "data": {
            "text/plain": [
              "(115, 1)"
            ]
          },
          "metadata": {},
          "execution_count": 98
        }
      ],
      "source": [
        "#Scale the external dataset using the previous scaling object \n",
        "TargetVariable=['log_Median_NC_EC3']\n",
        "Predictors=['log_hCLAT_MIT','log_DPRA_mean','log_KS.Ima']\n",
        "X=CosEu1[Predictors]\n",
        "y=CosEu1[TargetVariable]\n",
        "PredictorScalerFitex=PredictorScaler.fit(X)\n",
        "TargetVarScalerFitex=TargetVarScaler.fit(y)\n",
        "# Generating the standardized values of X and y\n",
        "ex_x=PredictorScalerFitex.transform(X)\n",
        "ex_y=TargetVarScalerFitex.transform(y)\n",
        "ex_y.shape"
      ]
    },
    {
      "cell_type": "code",
      "source": [
        "X."
      ],
      "metadata": {
        "colab": {
          "base_uri": "https://localhost:8080/",
          "height": 455
        },
        "id": "9ne572fjz5GB",
        "outputId": "89fabc8f-1e18-43dd-c86b-dd170d463d38"
      },
      "execution_count": 94,
      "outputs": [
        {
          "output_type": "execute_result",
          "data": {
            "text/plain": [
              "            log_hCLAT_MIT  log_DPRA_mean  log_KS.Ima\n",
              "CASRN                                               \n",
              "35691-65-7       0.974051       1.808211    0.605305\n",
              "149-30-4         1.759668       1.687975    0.945961\n",
              "104-55-2         1.008600       1.755494    1.210586\n",
              "137-26-8         0.431364       1.725912    0.829304\n",
              "69-72-7          2.784546       1.089905    0.053078\n",
              "...                   ...            ...         ...\n",
              "101-39-3         1.605305       1.292256    2.142483\n",
              "111-80-8         1.962843       1.712650    1.519303\n",
              "93-51-6          1.488551       0.759668    0.008600\n",
              "122-78-1         1.060698       1.619771    1.052694\n",
              "17369-59-4       1.494155       1.351216    0.041393\n",
              "\n",
              "[115 rows x 3 columns]"
            ],
            "text/html": [
              "\n",
              "  <div id=\"df-e30f3098-abbb-46f3-93ff-706cc2218508\">\n",
              "    <div class=\"colab-df-container\">\n",
              "      <div>\n",
              "<style scoped>\n",
              "    .dataframe tbody tr th:only-of-type {\n",
              "        vertical-align: middle;\n",
              "    }\n",
              "\n",
              "    .dataframe tbody tr th {\n",
              "        vertical-align: top;\n",
              "    }\n",
              "\n",
              "    .dataframe thead th {\n",
              "        text-align: right;\n",
              "    }\n",
              "</style>\n",
              "<table border=\"1\" class=\"dataframe\">\n",
              "  <thead>\n",
              "    <tr style=\"text-align: right;\">\n",
              "      <th></th>\n",
              "      <th>log_hCLAT_MIT</th>\n",
              "      <th>log_DPRA_mean</th>\n",
              "      <th>log_KS.Ima</th>\n",
              "    </tr>\n",
              "    <tr>\n",
              "      <th>CASRN</th>\n",
              "      <th></th>\n",
              "      <th></th>\n",
              "      <th></th>\n",
              "    </tr>\n",
              "  </thead>\n",
              "  <tbody>\n",
              "    <tr>\n",
              "      <th>35691-65-7</th>\n",
              "      <td>0.974051</td>\n",
              "      <td>1.808211</td>\n",
              "      <td>0.605305</td>\n",
              "    </tr>\n",
              "    <tr>\n",
              "      <th>149-30-4</th>\n",
              "      <td>1.759668</td>\n",
              "      <td>1.687975</td>\n",
              "      <td>0.945961</td>\n",
              "    </tr>\n",
              "    <tr>\n",
              "      <th>104-55-2</th>\n",
              "      <td>1.008600</td>\n",
              "      <td>1.755494</td>\n",
              "      <td>1.210586</td>\n",
              "    </tr>\n",
              "    <tr>\n",
              "      <th>137-26-8</th>\n",
              "      <td>0.431364</td>\n",
              "      <td>1.725912</td>\n",
              "      <td>0.829304</td>\n",
              "    </tr>\n",
              "    <tr>\n",
              "      <th>69-72-7</th>\n",
              "      <td>2.784546</td>\n",
              "      <td>1.089905</td>\n",
              "      <td>0.053078</td>\n",
              "    </tr>\n",
              "    <tr>\n",
              "      <th>...</th>\n",
              "      <td>...</td>\n",
              "      <td>...</td>\n",
              "      <td>...</td>\n",
              "    </tr>\n",
              "    <tr>\n",
              "      <th>101-39-3</th>\n",
              "      <td>1.605305</td>\n",
              "      <td>1.292256</td>\n",
              "      <td>2.142483</td>\n",
              "    </tr>\n",
              "    <tr>\n",
              "      <th>111-80-8</th>\n",
              "      <td>1.962843</td>\n",
              "      <td>1.712650</td>\n",
              "      <td>1.519303</td>\n",
              "    </tr>\n",
              "    <tr>\n",
              "      <th>93-51-6</th>\n",
              "      <td>1.488551</td>\n",
              "      <td>0.759668</td>\n",
              "      <td>0.008600</td>\n",
              "    </tr>\n",
              "    <tr>\n",
              "      <th>122-78-1</th>\n",
              "      <td>1.060698</td>\n",
              "      <td>1.619771</td>\n",
              "      <td>1.052694</td>\n",
              "    </tr>\n",
              "    <tr>\n",
              "      <th>17369-59-4</th>\n",
              "      <td>1.494155</td>\n",
              "      <td>1.351216</td>\n",
              "      <td>0.041393</td>\n",
              "    </tr>\n",
              "  </tbody>\n",
              "</table>\n",
              "<p>115 rows × 3 columns</p>\n",
              "</div>\n",
              "      <button class=\"colab-df-convert\" onclick=\"convertToInteractive('df-e30f3098-abbb-46f3-93ff-706cc2218508')\"\n",
              "              title=\"Convert this dataframe to an interactive table.\"\n",
              "              style=\"display:none;\">\n",
              "        \n",
              "  <svg xmlns=\"http://www.w3.org/2000/svg\" height=\"24px\"viewBox=\"0 0 24 24\"\n",
              "       width=\"24px\">\n",
              "    <path d=\"M0 0h24v24H0V0z\" fill=\"none\"/>\n",
              "    <path d=\"M18.56 5.44l.94 2.06.94-2.06 2.06-.94-2.06-.94-.94-2.06-.94 2.06-2.06.94zm-11 1L8.5 8.5l.94-2.06 2.06-.94-2.06-.94L8.5 2.5l-.94 2.06-2.06.94zm10 10l.94 2.06.94-2.06 2.06-.94-2.06-.94-.94-2.06-.94 2.06-2.06.94z\"/><path d=\"M17.41 7.96l-1.37-1.37c-.4-.4-.92-.59-1.43-.59-.52 0-1.04.2-1.43.59L10.3 9.45l-7.72 7.72c-.78.78-.78 2.05 0 2.83L4 21.41c.39.39.9.59 1.41.59.51 0 1.02-.2 1.41-.59l7.78-7.78 2.81-2.81c.8-.78.8-2.07 0-2.86zM5.41 20L4 18.59l7.72-7.72 1.47 1.35L5.41 20z\"/>\n",
              "  </svg>\n",
              "      </button>\n",
              "      \n",
              "  <style>\n",
              "    .colab-df-container {\n",
              "      display:flex;\n",
              "      flex-wrap:wrap;\n",
              "      gap: 12px;\n",
              "    }\n",
              "\n",
              "    .colab-df-convert {\n",
              "      background-color: #E8F0FE;\n",
              "      border: none;\n",
              "      border-radius: 50%;\n",
              "      cursor: pointer;\n",
              "      display: none;\n",
              "      fill: #1967D2;\n",
              "      height: 32px;\n",
              "      padding: 0 0 0 0;\n",
              "      width: 32px;\n",
              "    }\n",
              "\n",
              "    .colab-df-convert:hover {\n",
              "      background-color: #E2EBFA;\n",
              "      box-shadow: 0px 1px 2px rgba(60, 64, 67, 0.3), 0px 1px 3px 1px rgba(60, 64, 67, 0.15);\n",
              "      fill: #174EA6;\n",
              "    }\n",
              "\n",
              "    [theme=dark] .colab-df-convert {\n",
              "      background-color: #3B4455;\n",
              "      fill: #D2E3FC;\n",
              "    }\n",
              "\n",
              "    [theme=dark] .colab-df-convert:hover {\n",
              "      background-color: #434B5C;\n",
              "      box-shadow: 0px 1px 3px 1px rgba(0, 0, 0, 0.15);\n",
              "      filter: drop-shadow(0px 1px 2px rgba(0, 0, 0, 0.3));\n",
              "      fill: #FFFFFF;\n",
              "    }\n",
              "  </style>\n",
              "\n",
              "      <script>\n",
              "        const buttonEl =\n",
              "          document.querySelector('#df-e30f3098-abbb-46f3-93ff-706cc2218508 button.colab-df-convert');\n",
              "        buttonEl.style.display =\n",
              "          google.colab.kernel.accessAllowed ? 'block' : 'none';\n",
              "\n",
              "        async function convertToInteractive(key) {\n",
              "          const element = document.querySelector('#df-e30f3098-abbb-46f3-93ff-706cc2218508');\n",
              "          const dataTable =\n",
              "            await google.colab.kernel.invokeFunction('convertToInteractive',\n",
              "                                                     [key], {});\n",
              "          if (!dataTable) return;\n",
              "\n",
              "          const docLinkHtml = 'Like what you see? Visit the ' +\n",
              "            '<a target=\"_blank\" href=https://colab.research.google.com/notebooks/data_table.ipynb>data table notebook</a>'\n",
              "            + ' to learn more about interactive tables.';\n",
              "          element.innerHTML = '';\n",
              "          dataTable['output_type'] = 'display_data';\n",
              "          await google.colab.output.renderOutput(dataTable, element);\n",
              "          const docLink = document.createElement('div');\n",
              "          docLink.innerHTML = docLinkHtml;\n",
              "          element.appendChild(docLink);\n",
              "        }\n",
              "      </script>\n",
              "    </div>\n",
              "  </div>\n",
              "  "
            ]
          },
          "metadata": {},
          "execution_count": 94
        }
      ]
    },
    {
      "cell_type": "code",
      "execution_count": 49,
      "metadata": {
        "colab": {
          "base_uri": "https://localhost:8080/"
        },
        "id": "krvy69E7wLfk",
        "outputId": "9445d06b-67b0-4970-bb20-6e6bc45efda4"
      },
      "outputs": [
        {
          "output_type": "stream",
          "name": "stdout",
          "text": [
            "(55, 3)\n",
            "(55, 1)\n",
            "(14, 3)\n",
            "(14, 1)\n"
          ]
        }
      ],
      "source": [
        "# Split the data into training and testing set\n",
        "X_train, X_test, y_train, y_test = train_test_split(scaled_X, scaled_y, test_size=0.2, random_state=0)\n",
        "print(X_train.shape)\n",
        "print(y_train.shape)\n",
        "print(X_test.shape)\n",
        "print(y_test.shape)"
      ]
    },
    {
      "cell_type": "code",
      "execution_count": 50,
      "metadata": {
        "colab": {
          "base_uri": "https://localhost:8080/"
        },
        "id": "yuhaCigYt-Q8",
        "outputId": "3ac5b059-d5a6-440e-c19e-9cb211c561f3"
      },
      "outputs": [
        {
          "output_type": "stream",
          "name": "stdout",
          "text": [
            "train-score 0.5879282259289398\n",
            "test_score 0.7295123261341553\n"
          ]
        }
      ],
      "source": [
        "#Develop and train the model\n",
        "reg = MLPRegressor(hidden_layer_sizes=(5,2),activation='relu',random_state=42, learning_rate_init=0.02,momentum=0.7, max_iter=500,solver='lbfgs')\n",
        "# Predict the target values on the test data\n",
        "reg.fit(X_train, y_train)\n",
        "#check train and test score\n",
        "train_score=reg.score(X_train, y_train)\n",
        "test_score=reg.score(X_test, y_test)\n",
        "print('train-score',train_score)\n",
        "print('test_score',test_score)"
      ]
    },
    {
      "cell_type": "code",
      "execution_count": 51,
      "metadata": {
        "colab": {
          "base_uri": "https://localhost:8080/"
        },
        "id": "XhuoomoYuHwj",
        "outputId": "1f07ce22-d833-496a-e182-a21f075df635"
      },
      "outputs": [
        {
          "output_type": "stream",
          "name": "stdout",
          "text": [
            "The Score with  0.6977714334125467\n",
            "The Score with  0.007175913725386493\n"
          ]
        }
      ],
      "source": [
        "#predict the test set with model and check accuracies(r2 score and MSE)\n",
        "y_pred=reg.predict(X_test)\n",
        "print(\"The Score with \",(r2_score(y_pred, y_test)))\n",
        "print(\"The Score with \",(mean_squared_error(y_pred, y_test)))"
      ]
    },
    {
      "cell_type": "code",
      "source": [
        "len(y_test)\n",
        "len(y_pred)"
      ],
      "metadata": {
        "colab": {
          "base_uri": "https://localhost:8080/"
        },
        "id": "LFXIB6RVlVaw",
        "outputId": "e1f982a6-76b0-48a9-fcaf-7f49812e46bc"
      },
      "execution_count": 19,
      "outputs": [
        {
          "output_type": "execute_result",
          "data": {
            "text/plain": [
              "14"
            ]
          },
          "metadata": {},
          "execution_count": 19
        }
      ]
    },
    {
      "cell_type": "markdown",
      "source": [
        "5 FOLD CROSS VALIDATION TRAIN SET"
      ],
      "metadata": {
        "id": "XBDD8xbhe-WH"
      }
    },
    {
      "cell_type": "code",
      "execution_count": 20,
      "metadata": {
        "colab": {
          "base_uri": "https://localhost:8080/",
          "height": 475
        },
        "id": "7KrmsolzJ9jq",
        "outputId": "abb92f34-58de-43cc-e2ed-2e4ae16922ea"
      },
      "outputs": [
        {
          "output_type": "display_data",
          "data": {
            "text/plain": [
              "<Figure size 576x396 with 1 Axes>"
            ],
            "image/png": "[encoded data removed]"
          },
          "metadata": {}
        },
        {
          "output_type": "execute_result",
          "data": {
            "text/plain": [
              "CVScores(ax=<AxesSubplot:title={'center':'Cross Validation Scores for MLPRegressor'}, xlabel='Training Instances', ylabel='Score'>,\n",
              "         cv=KFold(n_splits=5, random_state=0, shuffle=True),\n",
              "         estimator=MLPRegressor(hidden_layer_sizes=(5, 2),\n",
              "                                learning_rate_init=0.02, max_iter=500,\n",
              "                                momentum=0.7, random_state=42, solver='lbfgs'),\n",
              "         scoring='r2')"
            ],
            "text/html": [
              "<style>#sk-container-id-1 {color: black;background-color: white;}#sk-container-id-1 pre{padding: 0;}#sk-container-id-1 div.sk-toggleable {background-color: white;}#sk-container-id-1 label.sk-toggleable__label {cursor: pointer;display: block;width: 100%;margin-bottom: 0;padding: 0.3em;box-sizing: border-box;text-align: center;}#sk-container-id-1 label.sk-toggleable__label-arrow:before {content: \"▸\";float: left;margin-right: 0.25em;color: #696969;}#sk-container-id-1 label.sk-toggleable__label-arrow:hover:before {color: black;}#sk-container-id-1 div.sk-estimator:hover label.sk-toggleable__label-arrow:before {color: black;}#sk-container-id-1 div.sk-toggleable__content {max-height: 0;max-width: 0;overflow: hidden;text-align: left;background-color: #f0f8ff;}#sk-container-id-1 div.sk-toggleable__content pre {margin: 0.2em;color: black;border-radius: 0.25em;background-color: #f0f8ff;}#sk-container-id-1 input.sk-toggleable__control:checked~div.sk-toggleable__content {max-height: 200px;max-width: 100%;overflow: auto;}#sk-container-id-1 input.sk-toggleable__control:checked~label.sk-toggleable__label-arrow:before {content: \"▾\";}#sk-container-id-1 div.sk-estimator input.sk-toggleable__control:checked~label.sk-toggleable__label {background-color: #d4ebff;}#sk-container-id-1 div.sk-label input.sk-toggleable__control:checked~label.sk-toggleable__label {background-color: #d4ebff;}#sk-container-id-1 input.sk-hidden--visually {border: 0;clip: rect(1px 1px 1px 1px);clip: rect(1px, 1px, 1px, 1px);height: 1px;margin: -1px;overflow: hidden;padding: 0;position: absolute;width: 1px;}#sk-container-id-1 div.sk-estimator {font-family: monospace;background-color: #f0f8ff;border: 1px dotted black;border-radius: 0.25em;box-sizing: border-box;margin-bottom: 0.5em;}#sk-container-id-1 div.sk-estimator:hover {background-color: #d4ebff;}#sk-container-id-1 div.sk-parallel-item::after {content: \"\";width: 100%;border-bottom: 1px solid gray;flex-grow: 1;}#sk-container-id-1 div.sk-label:hover label.sk-toggleable__label {background-color: #d4ebff;}#sk-container-id-1 div.sk-serial::before {content: \"\";position: absolute;border-left: 1px solid gray;box-sizing: border-box;top: 0;bottom: 0;left: 50%;z-index: 0;}#sk-container-id-1 div.sk-serial {display: flex;flex-direction: column;align-items: center;background-color: white;padding-right: 0.2em;padding-left: 0.2em;position: relative;}#sk-container-id-1 div.sk-item {position: relative;z-index: 1;}#sk-container-id-1 div.sk-parallel {display: flex;align-items: stretch;justify-content: center;background-color: white;position: relative;}#sk-container-id-1 div.sk-item::before, #sk-container-id-1 div.sk-parallel-item::before {content: \"\";position: absolute;border-left: 1px solid gray;box-sizing: border-box;top: 0;bottom: 0;left: 50%;z-index: -1;}#sk-container-id-1 div.sk-parallel-item {display: flex;flex-direction: column;z-index: 1;position: relative;background-color: white;}#sk-container-id-1 div.sk-parallel-item:first-child::after {align-self: flex-end;width: 50%;}#sk-container-id-1 div.sk-parallel-item:last-child::after {align-self: flex-start;width: 50%;}#sk-container-id-1 div.sk-parallel-item:only-child::after {width: 0;}#sk-container-id-1 div.sk-dashed-wrapped {border: 1px dashed gray;margin: 0 0.4em 0.5em 0.4em;box-sizing: border-box;padding-bottom: 0.4em;background-color: white;}#sk-container-id-1 div.sk-label label {font-family: monospace;font-weight: bold;display: inline-block;line-height: 1.2em;}#sk-container-id-1 div.sk-label-container {text-align: center;}#sk-container-id-1 div.sk-container {/* jupyter's `normalize.less` sets `[hidden] { display: none; }` but bootstrap.min.css set `[hidden] { display: none !important; }` so we also need the `!important` here to be able to override the default hidden behavior on the sphinx rendered scikit-learn.org. See: https://github.com/scikit-learn/scikit-learn/issues/21755 */display: inline-block !important;position: relative;}#sk-container-id-1 div.sk-text-repr-fallback {display: none;}</style><div id=\"sk-container-id-1\" class=\"sk-top-container\"><div class=\"sk-text-repr-fallback\"><pre>CVScores(ax=&lt;AxesSubplot:title={&#x27;center&#x27;:&#x27;Cross Validation Scores for MLPRegressor&#x27;}, xlabel=&#x27;Training Instances&#x27;, ylabel=&#x27;Score&#x27;&gt;,\n",
              "         cv=KFold(n_splits=5, random_state=0, shuffle=True),\n",
              "         estimator=MLPRegressor(hidden_layer_sizes=(5, 2),\n",
              "                                learning_rate_init=0.02, max_iter=500,\n",
              "                                momentum=0.7, random_state=42, solver=&#x27;lbfgs&#x27;),\n",
              "         scoring=&#x27;r2&#x27;)</pre><b>In a Jupyter environment, please rerun this cell to show the HTML representation or trust the notebook. <br />On GitHub, the HTML representation is unable to render, please try loading this page with nbviewer.org.</b></div><div class=\"sk-container\" hidden><div class=\"sk-item sk-dashed-wrapped\"><div class=\"sk-label-container\"><div class=\"sk-label sk-toggleable\"><input class=\"sk-toggleable__control sk-hidden--visually\" id=\"sk-estimator-id-1\" type=\"checkbox\" ><label for=\"sk-estimator-id-1\" class=\"sk-toggleable__label sk-toggleable__label-arrow\">CVScores</label><div class=\"sk-toggleable__content\"><pre>CVScores(ax=&lt;AxesSubplot:title={&#x27;center&#x27;:&#x27;Cross Validation Scores for MLPRegressor&#x27;}, xlabel=&#x27;Training Instances&#x27;, ylabel=&#x27;Score&#x27;&gt;,\n",
              "         cv=KFold(n_splits=5, random_state=0, shuffle=True),\n",
              "         estimator=MLPRegressor(hidden_layer_sizes=(5, 2),\n",
              "                                learning_rate_init=0.02, max_iter=500,\n",
              "                                momentum=0.7, random_state=42, solver=&#x27;lbfgs&#x27;),\n",
              "         scoring=&#x27;r2&#x27;)</pre></div></div></div><div class=\"sk-parallel\"><div class=\"sk-parallel-item\"><div class=\"sk-item\"><div class=\"sk-label-container\"><div class=\"sk-label sk-toggleable\"><input class=\"sk-toggleable__control sk-hidden--visually\" id=\"sk-estimator-id-2\" type=\"checkbox\" ><label for=\"sk-estimator-id-2\" class=\"sk-toggleable__label sk-toggleable__label-arrow\">estimator: MLPRegressor</label><div class=\"sk-toggleable__content\"><pre>MLPRegressor(hidden_layer_sizes=(5, 2), learning_rate_init=0.02, max_iter=500,\n",
              "             momentum=0.7, random_state=42, solver=&#x27;lbfgs&#x27;)</pre></div></div></div><div class=\"sk-serial\"><div class=\"sk-item\"><div class=\"sk-estimator sk-toggleable\"><input class=\"sk-toggleable__control sk-hidden--visually\" id=\"sk-estimator-id-3\" type=\"checkbox\" ><label for=\"sk-estimator-id-3\" class=\"sk-toggleable__label sk-toggleable__label-arrow\">MLPRegressor</label><div class=\"sk-toggleable__content\"><pre>MLPRegressor(hidden_layer_sizes=(5, 2), learning_rate_init=0.02, max_iter=500,\n",
              "             momentum=0.7, random_state=42, solver=&#x27;lbfgs&#x27;)</pre></div></div></div></div></div></div></div></div></div></div>"
            ]
          },
          "metadata": {},
          "execution_count": 20
        }
      ],
      "source": [
        "cv = KFold(n_splits=5, random_state=0, shuffle=True)\n",
        "#validation score for cv=\n",
        "from yellowbrick.model_selection import cv_scores\n",
        "cv_scores(\n",
        "    reg,\n",
        "    X_train,\n",
        "    y_train,\n",
        "    cv=cv,\n",
        "    n_jobs=-1,\n",
        "    scoring='r2',\n",
        "    random_state=42)"
      ]
    },
    {
      "cell_type": "code",
      "execution_count": 21,
      "metadata": {
        "colab": {
          "base_uri": "https://localhost:8080/",
          "height": 475
        },
        "id": "W2nql8ziKPSl",
        "outputId": "f7f09bae-8b16-4738-e543-81907f308574"
      },
      "outputs": [
        {
          "output_type": "display_data",
          "data": {
            "text/plain": [
              "<Figure size 576x396 with 1 Axes>"
            ],
            "image/png": "[encoded data removed]"
          },
          "metadata": {}
        },
        {
          "output_type": "execute_result",
          "data": {
            "text/plain": [
              "CVScores(ax=<AxesSubplot:title={'center':'Cross Validation Scores for MLPRegressor'}, xlabel='Training Instances', ylabel='Score'>,\n",
              "         cv=KFold(n_splits=10, random_state=42, shuffle=True),\n",
              "         estimator=MLPRegressor(hidden_layer_sizes=(5, 2),\n",
              "                                learning_rate_init=0.02, max_iter=500,\n",
              "                                momentum=0.7, random_state=42, solver='lbfgs'),\n",
              "         scoring='r2')"
            ],
            "text/html": [
              "<style>#sk-container-id-2 {color: black;background-color: white;}#sk-container-id-2 pre{padding: 0;}#sk-container-id-2 div.sk-toggleable {background-color: white;}#sk-container-id-2 label.sk-toggleable__label {cursor: pointer;display: block;width: 100%;margin-bottom: 0;padding: 0.3em;box-sizing: border-box;text-align: center;}#sk-container-id-2 label.sk-toggleable__label-arrow:before {content: \"▸\";float: left;margin-right: 0.25em;color: #696969;}#sk-container-id-2 label.sk-toggleable__label-arrow:hover:before {color: black;}#sk-container-id-2 div.sk-estimator:hover label.sk-toggleable__label-arrow:before {color: black;}#sk-container-id-2 div.sk-toggleable__content {max-height: 0;max-width: 0;overflow: hidden;text-align: left;background-color: #f0f8ff;}#sk-container-id-2 div.sk-toggleable__content pre {margin: 0.2em;color: black;border-radius: 0.25em;background-color: #f0f8ff;}#sk-container-id-2 input.sk-toggleable__control:checked~div.sk-toggleable__content {max-height: 200px;max-width: 100%;overflow: auto;}#sk-container-id-2 input.sk-toggleable__control:checked~label.sk-toggleable__label-arrow:before {content: \"▾\";}#sk-container-id-2 div.sk-estimator input.sk-toggleable__control:checked~label.sk-toggleable__label {background-color: #d4ebff;}#sk-container-id-2 div.sk-label input.sk-toggleable__control:checked~label.sk-toggleable__label {background-color: #d4ebff;}#sk-container-id-2 input.sk-hidden--visually {border: 0;clip: rect(1px 1px 1px 1px);clip: rect(1px, 1px, 1px, 1px);height: 1px;margin: -1px;overflow: hidden;padding: 0;position: absolute;width: 1px;}#sk-container-id-2 div.sk-estimator {font-family: monospace;background-color: #f0f8ff;border: 1px dotted black;border-radius: 0.25em;box-sizing: border-box;margin-bottom: 0.5em;}#sk-container-id-2 div.sk-estimator:hover {background-color: #d4ebff;}#sk-container-id-2 div.sk-parallel-item::after {content: \"\";width: 100%;border-bottom: 1px solid gray;flex-grow: 1;}#sk-container-id-2 div.sk-label:hover label.sk-toggleable__label {background-color: #d4ebff;}#sk-container-id-2 div.sk-serial::before {content: \"\";position: absolute;border-left: 1px solid gray;box-sizing: border-box;top: 0;bottom: 0;left: 50%;z-index: 0;}#sk-container-id-2 div.sk-serial {display: flex;flex-direction: column;align-items: center;background-color: white;padding-right: 0.2em;padding-left: 0.2em;position: relative;}#sk-container-id-2 div.sk-item {position: relative;z-index: 1;}#sk-container-id-2 div.sk-parallel {display: flex;align-items: stretch;justify-content: center;background-color: white;position: relative;}#sk-container-id-2 div.sk-item::before, #sk-container-id-2 div.sk-parallel-item::before {content: \"\";position: absolute;border-left: 1px solid gray;box-sizing: border-box;top: 0;bottom: 0;left: 50%;z-index: -1;}#sk-container-id-2 div.sk-parallel-item {display: flex;flex-direction: column;z-index: 1;position: relative;background-color: white;}#sk-container-id-2 div.sk-parallel-item:first-child::after {align-self: flex-end;width: 50%;}#sk-container-id-2 div.sk-parallel-item:last-child::after {align-self: flex-start;width: 50%;}#sk-container-id-2 div.sk-parallel-item:only-child::after {width: 0;}#sk-container-id-2 div.sk-dashed-wrapped {border: 1px dashed gray;margin: 0 0.4em 0.5em 0.4em;box-sizing: border-box;padding-bottom: 0.4em;background-color: white;}#sk-container-id-2 div.sk-label label {font-family: monospace;font-weight: bold;display: inline-block;line-height: 1.2em;}#sk-container-id-2 div.sk-label-container {text-align: center;}#sk-container-id-2 div.sk-container {/* jupyter's `normalize.less` sets `[hidden] { display: none; }` but bootstrap.min.css set `[hidden] { display: none !important; }` so we also need the `!important` here to be able to override the default hidden behavior on the sphinx rendered scikit-learn.org. See: https://github.com/scikit-learn/scikit-learn/issues/21755 */display: inline-block !important;position: relative;}#sk-container-id-2 div.sk-text-repr-fallback {display: none;}</style><div id=\"sk-container-id-2\" class=\"sk-top-container\"><div class=\"sk-text-repr-fallback\"><pre>CVScores(ax=&lt;AxesSubplot:title={&#x27;center&#x27;:&#x27;Cross Validation Scores for MLPRegressor&#x27;}, xlabel=&#x27;Training Instances&#x27;, ylabel=&#x27;Score&#x27;&gt;,\n",
              "         cv=KFold(n_splits=10, random_state=42, shuffle=True),\n",
              "         estimator=MLPRegressor(hidden_layer_sizes=(5, 2),\n",
              "                                learning_rate_init=0.02, max_iter=500,\n",
              "                                momentum=0.7, random_state=42, solver=&#x27;lbfgs&#x27;),\n",
              "         scoring=&#x27;r2&#x27;)</pre><b>In a Jupyter environment, please rerun this cell to show the HTML representation or trust the notebook. <br />On GitHub, the HTML representation is unable to render, please try loading this page with nbviewer.org.</b></div><div class=\"sk-container\" hidden><div class=\"sk-item sk-dashed-wrapped\"><div class=\"sk-label-container\"><div class=\"sk-label sk-toggleable\"><input class=\"sk-toggleable__control sk-hidden--visually\" id=\"sk-estimator-id-4\" type=\"checkbox\" ><label for=\"sk-estimator-id-4\" class=\"sk-toggleable__label sk-toggleable__label-arrow\">CVScores</label><div class=\"sk-toggleable__content\"><pre>CVScores(ax=&lt;AxesSubplot:title={&#x27;center&#x27;:&#x27;Cross Validation Scores for MLPRegressor&#x27;}, xlabel=&#x27;Training Instances&#x27;, ylabel=&#x27;Score&#x27;&gt;,\n",
              "         cv=KFold(n_splits=10, random_state=42, shuffle=True),\n",
              "         estimator=MLPRegressor(hidden_layer_sizes=(5, 2),\n",
              "                                learning_rate_init=0.02, max_iter=500,\n",
              "                                momentum=0.7, random_state=42, solver=&#x27;lbfgs&#x27;),\n",
              "         scoring=&#x27;r2&#x27;)</pre></div></div></div><div class=\"sk-parallel\"><div class=\"sk-parallel-item\"><div class=\"sk-item\"><div class=\"sk-label-container\"><div class=\"sk-label sk-toggleable\"><input class=\"sk-toggleable__control sk-hidden--visually\" id=\"sk-estimator-id-5\" type=\"checkbox\" ><label for=\"sk-estimator-id-5\" class=\"sk-toggleable__label sk-toggleable__label-arrow\">estimator: MLPRegressor</label><div class=\"sk-toggleable__content\"><pre>MLPRegressor(hidden_layer_sizes=(5, 2), learning_rate_init=0.02, max_iter=500,\n",
              "             momentum=0.7, random_state=42, solver=&#x27;lbfgs&#x27;)</pre></div></div></div><div class=\"sk-serial\"><div class=\"sk-item\"><div class=\"sk-estimator sk-toggleable\"><input class=\"sk-toggleable__control sk-hidden--visually\" id=\"sk-estimator-id-6\" type=\"checkbox\" ><label for=\"sk-estimator-id-6\" class=\"sk-toggleable__label sk-toggleable__label-arrow\">MLPRegressor</label><div class=\"sk-toggleable__content\"><pre>MLPRegressor(hidden_layer_sizes=(5, 2), learning_rate_init=0.02, max_iter=500,\n",
              "             momentum=0.7, random_state=42, solver=&#x27;lbfgs&#x27;)</pre></div></div></div></div></div></div></div></div></div></div>"
            ]
          },
          "metadata": {},
          "execution_count": 21
        }
      ],
      "source": [
        "cv = KFold(n_splits=10, random_state=42, shuffle=True)\n",
        "# validation score for cv=10\n",
        "from yellowbrick.model_selection import cv_scores\n",
        "cv_scores(\n",
        "    reg,\n",
        "    X_train,\n",
        "    y_train,\n",
        "    cv=cv,\n",
        "    n_jobs=-1,\n",
        "    scoring='r2',\n",
        "    random_state=0)"
      ]
    },
    {
      "cell_type": "markdown",
      "metadata": {
        "id": "WOCBuD8pVN7l"
      },
      "source": [
        "5-FOLD CROSS VALIDATION"
      ]
    },
    {
      "cell_type": "code",
      "execution_count": 22,
      "metadata": {
        "colab": {
          "base_uri": "https://localhost:8080/"
        },
        "id": "9QMwgch0Fot3",
        "outputId": "4f024c6b-84f5-48c4-a201-a2ca31a54824"
      },
      "outputs": [
        {
          "output_type": "execute_result",
          "data": {
            "text/plain": [
              "0.46524265179572344"
            ]
          },
          "metadata": {},
          "execution_count": 22
        }
      ],
      "source": [
        "#implementing the 5 fold cross validation for r2 score on train set\n",
        "cv = KFold(n_splits=5, random_state=28, shuffle=True)\n",
        "#scoring=['neg_mean_squared_error']\n",
        "scores = cross_val_score(reg, X_train,y_train, scoring='r2', cv=cv)\n",
        "scores.mean()"
      ]
    },
    {
      "cell_type": "code",
      "execution_count": 23,
      "metadata": {
        "colab": {
          "base_uri": "https://localhost:8080/"
        },
        "id": "EGx2Jgi_F1zN",
        "outputId": "1634e09d-effe-46a2-ae81-383586c98680"
      },
      "outputs": [
        {
          "output_type": "stream",
          "name": "stdout",
          "text": [
            "the root mean squared erro 0.1945417665423021\n",
            "the mean squared error 0.03784649892939957\n"
          ]
        }
      ],
      "source": [
        "#implementing the 5 fold cross validation for MSE & RMSE on train set\n",
        "cv = KFold(n_splits=5, random_state=0, shuffle=True)\n",
        "#scoring=['neg_mean_squared_error']\n",
        "scores = cross_val_score(reg, X_train, y_train, scoring='neg_mean_squared_error', cv=cv)\n",
        "RMSE=sqrt(mean(absolute(scores)))\n",
        "MSE=(mean(absolute(scores)))\n",
        "print('the root mean squared erro',RMSE)\n",
        "print('the mean squared error',MSE)\n"
      ]
    },
    {
      "cell_type": "code",
      "execution_count": 24,
      "metadata": {
        "colab": {
          "base_uri": "https://localhost:8080/"
        },
        "id": "eq2yh711XWRe",
        "outputId": "5d02f4d2-72c3-43b8-a51b-5fc894012707"
      },
      "outputs": [
        {
          "output_type": "stream",
          "name": "stdout",
          "text": [
            "r2 after CV 0.5215884752210198\n",
            "MSE AFTER CV: 0.037846498929399564\n",
            "RMSE AFTER CV: 0.19454176654230207\n"
          ]
        }
      ],
      "source": [
        "#model performance for predicted outcomes after 5-fold cross validation\n",
        "pred = cross_val_predict(reg, X_train, y_train, cv=cv)\n",
        "\n",
        "R2 = metrics.r2_score(y_train, pred)\n",
        "MSE=metrics.mean_squared_error(y_train, pred)\n",
        "RMSE=sqrt(MSE)\n",
        "print('r2 after CV',R2)\n",
        "print ('MSE AFTER CV:', MSE)\n",
        "print('RMSE AFTER CV:',RMSE)"
      ]
    },
    {
      "cell_type": "markdown",
      "metadata": {
        "id": "ENyQDrblWsa6"
      },
      "source": [
        "5 FOLD CROSS VALIDATION FOR TEST SET"
      ]
    },
    {
      "cell_type": "code",
      "execution_count": 25,
      "metadata": {
        "colab": {
          "base_uri": "https://localhost:8080/"
        },
        "id": "5pjioySjW6Nw",
        "outputId": "ef59a4c7-fb1f-4aef-de34-c75b63fb1b8e"
      },
      "outputs": [
        {
          "output_type": "execute_result",
          "data": {
            "text/plain": [
              "-1.0148343350994435"
            ]
          },
          "metadata": {},
          "execution_count": 25
        }
      ],
      "source": [
        "#implementing the 5 fold cross validation for r2 score on test set\n",
        "cv = KFold(n_splits=5, random_state=0, shuffle=True)\n",
        "scores = cross_val_score(reg, X_test,y_test, scoring='r2', cv=cv)\n",
        "scores.mean()"
      ]
    },
    {
      "cell_type": "code",
      "execution_count": 26,
      "metadata": {
        "colab": {
          "base_uri": "https://localhost:8080/"
        },
        "id": "O5AQ_-Hg3oFR",
        "outputId": "d8692159-cb67-4c20-b7ef-c7fd09ba7858"
      },
      "outputs": [
        {
          "output_type": "stream",
          "name": "stdout",
          "text": [
            "the root mean squared erro 0.1478042892622152\n",
            "the mean squared error 0.021846107924308585\n"
          ]
        }
      ],
      "source": [
        "#implementing the 5 fold cross validation for MSE & RMSE on test set\n",
        "cv = KFold(n_splits=5, random_state=28, shuffle=True)\n",
        "scores = cross_val_score(reg, X_test, y_test, scoring='neg_mean_squared_error', cv=cv)\n",
        "RMSE=sqrt(mean(absolute(scores)))\n",
        "MSE=(mean(absolute(scores)))\n",
        "print('the root mean squared erro',RMSE)\n",
        "print('the mean squared error',MSE)"
      ]
    },
    {
      "cell_type": "code",
      "execution_count": 27,
      "metadata": {
        "colab": {
          "base_uri": "https://localhost:8080/"
        },
        "id": "K93B8-wD3ybm",
        "outputId": "5d2c633d-2db8-4a0c-8b68-b6bd37d7df52"
      },
      "outputs": [
        {
          "output_type": "stream",
          "name": "stdout",
          "text": [
            "r2 after CV 0.11926935413297302\n",
            "MSE AFTER CV: 0.02336537942642184\n",
            "RMSE AFTER CV: 0.15285738263630527\n"
          ]
        }
      ],
      "source": [
        "#model performance for predicted outcomes after 5-fold cross validation\n",
        "pred = cross_val_predict(reg, X_test, y_test, cv=cv)\n",
        "R2 = metrics.r2_score(y_test, pred)\n",
        "MSE=metrics.mean_squared_error(y_test, pred)\n",
        "RMSE=sqrt(MSE)\n",
        "print('r2 after CV',R2)\n",
        "print ('MSE AFTER CV:', MSE)\n",
        "print('RMSE AFTER CV:',RMSE)"
      ]
    },
    {
      "cell_type": "markdown",
      "metadata": {
        "id": "ElQxr2mHYhgs"
      },
      "source": [
        "TEN FOLD CROSS VALIDATION TRAIN SET"
      ]
    },
    {
      "cell_type": "code",
      "execution_count": 28,
      "metadata": {
        "colab": {
          "base_uri": "https://localhost:8080/"
        },
        "id": "wsu_hWY44a_f",
        "outputId": "9713005d-7f68-4c6e-ee03-4b992e840009"
      },
      "outputs": [
        {
          "output_type": "execute_result",
          "data": {
            "text/plain": [
              "0.34124312923123956"
            ]
          },
          "metadata": {},
          "execution_count": 28
        }
      ],
      "source": [
        "#implementing the 10 fold cross validation for r2 score on  train set\n",
        "cv = KFold(n_splits=10, random_state=42, shuffle=True)\n",
        "scores = cross_val_score(reg, X_train,y_train, scoring='r2', cv=cv)\n",
        "scores.mean()"
      ]
    },
    {
      "cell_type": "code",
      "execution_count": 29,
      "metadata": {
        "colab": {
          "base_uri": "https://localhost:8080/"
        },
        "id": "laoNfdmE5Brk",
        "outputId": "3bc9ab91-4237-4af5-e957-bacc59f48fa8"
      },
      "outputs": [
        {
          "output_type": "stream",
          "name": "stdout",
          "text": [
            "the root mean squared erro 0.18906890627355896\n",
            "the mean squared error 0.03574705131947982\n"
          ]
        }
      ],
      "source": [
        "#implementing the 10 fold cross validation for RMSE & MSE on train set\n",
        "cv = KFold(n_splits=10, random_state=4, shuffle=True)\n",
        "pred_cv1 = cross_val_score(reg, X_train, y_train, scoring='neg_mean_squared_error', cv=cv)\n",
        "RMSE=sqrt(mean(absolute(pred_cv1)))\n",
        "MSE=(absolute(mean(pred_cv1)))\n",
        "print('the root mean squared erro',RMSE)\n",
        "print('the mean squared error',MSE)"
      ]
    },
    {
      "cell_type": "code",
      "execution_count": 30,
      "metadata": {
        "colab": {
          "base_uri": "https://localhost:8080/"
        },
        "id": "vAdAVFlf5Vi_",
        "outputId": "5918b415-f0e3-4911-cce5-197717a9835b"
      },
      "outputs": [
        {
          "output_type": "stream",
          "name": "stdout",
          "text": [
            "r2 after CV 0.530525013324014\n",
            "MSE AFTER CV: 0.03713954129516664\n",
            "RMSE AFTER CV: 0.19271621959546278\n"
          ]
        }
      ],
      "source": [
        "#model performance for predicted outcomes after 5-fold cross validation\n",
        "pred = cross_val_predict(reg, X_train, y_train, cv=cv)\n",
        "R2 = metrics.r2_score(y_train, pred)\n",
        "MSE=metrics.mean_squared_error(y_train, pred)\n",
        "RMSE=sqrt(MSE)\n",
        "print('r2 after CV',R2)\n",
        "print ('MSE AFTER CV:', MSE)\n",
        "print('RMSE AFTER CV:',RMSE)"
      ]
    },
    {
      "cell_type": "markdown",
      "metadata": {
        "id": "v3MGun9LZQF8"
      },
      "source": [
        "TEN FOLD CROSS VALIDATION TEST SET"
      ]
    },
    {
      "cell_type": "code",
      "execution_count": 31,
      "metadata": {
        "colab": {
          "base_uri": "https://localhost:8080/"
        },
        "id": "yHUHAfGpZe7q",
        "outputId": "49b2fb58-f879-4272-8135-b05342ac74d8"
      },
      "outputs": [
        {
          "output_type": "execute_result",
          "data": {
            "text/plain": [
              "0.34124312923123956"
            ]
          },
          "metadata": {},
          "execution_count": 31
        }
      ],
      "source": [
        "#implementing the 10 fold cross validation for r2 score on  train set\n",
        "cv = KFold(n_splits=10, random_state=42, shuffle=True)\n",
        "#scoring=['neg_mean_squared_error']\n",
        "scores = cross_val_score(reg, X_train,y_train, scoring='r2', cv=cv)\n",
        "scores.mean()"
      ]
    },
    {
      "cell_type": "code",
      "execution_count": 32,
      "metadata": {
        "colab": {
          "base_uri": "https://localhost:8080/"
        },
        "id": "qpKO3M7-ZJDw",
        "outputId": "9ac0dd0e-ca2a-4f4c-8967-d327335a4ae6"
      },
      "outputs": [
        {
          "output_type": "stream",
          "name": "stdout",
          "text": [
            "the root mean squared erro 0.15677231025655694\n",
            "the mean squared error 0.024577557263178153\n"
          ]
        }
      ],
      "source": [
        "#implementing the 10 fold cross validation for RMSE & MSE score the model for test set\n",
        "cv = KFold(n_splits=10, random_state=0, shuffle=True)\n",
        "#scoring=['neg_mean_squared_error']\n",
        "scores = cross_val_score(reg, X_test,y_test, scoring='neg_mean_squared_error', cv=cv)\n",
        "RMSE=sqrt(mean(absolute(scores)))\n",
        "MSE=(absolute(mean(scores)))\n",
        "print('the root mean squared erro',RMSE)\n",
        "print('the mean squared error',MSE)"
      ]
    },
    {
      "cell_type": "code",
      "execution_count": 33,
      "metadata": {
        "colab": {
          "base_uri": "https://localhost:8080/"
        },
        "id": "CRllifgENIgF",
        "outputId": "0946bbe9-0632-40aa-b2f5-8b33fd475f4e"
      },
      "outputs": [
        {
          "output_type": "stream",
          "name": "stdout",
          "text": [
            "r2 after CV -0.06564883299410473\n",
            "MSE AFTER CV: 0.02827117397932603\n",
            "RMSE AFTER CV: 0.1681403401308741\n"
          ]
        }
      ],
      "source": [
        "pred = cross_val_predict(reg, X_test, y_test, cv=cv)\n",
        "R2 = metrics.r2_score(y_test, pred)\n",
        "MSE=metrics.mean_squared_error(y_test, pred)\n",
        "RMSE=sqrt(MSE)\n",
        "print('r2 after CV',R2)\n",
        "print ('MSE AFTER CV:', MSE)\n",
        "print('RMSE AFTER CV:',RMSE)"
      ]
    },
    {
      "cell_type": "markdown",
      "metadata": {
        "id": "0lrIO27geXbn"
      },
      "source": [
        "LEAVE OUT ONE CROSS VALIDATION TRAIN SET\n"
      ]
    },
    {
      "cell_type": "code",
      "execution_count": 34,
      "metadata": {
        "colab": {
          "base_uri": "https://localhost:8080/"
        },
        "id": "ZMrZJ81N5eEg",
        "outputId": "72f5f9d4-93ef-4e28-be10-4024ddb1ac63"
      },
      "outputs": [
        {
          "output_type": "stream",
          "name": "stdout",
          "text": [
            "the root mean squared erro 0.2036890164500833\n",
            "the mean squared error 0.04148921542240231\n"
          ]
        }
      ],
      "source": [
        "#EVALUATING THE MODEL WITH LEAVE ONE OUT On train set\n",
        "cv=LeaveOneOut()\n",
        "scores = cross_val_score(reg,X_train, y_train, scoring='neg_mean_squared_error',cv=cv)\n",
        "RMSE=sqrt(mean(absolute(scores)))\n",
        "MSE=(absolute(mean(scores)))\n",
        "print('the root mean squared erro',RMSE)\n",
        "print('the mean squared error',MSE)"
      ]
    },
    {
      "cell_type": "code",
      "execution_count": 35,
      "metadata": {
        "colab": {
          "base_uri": "https://localhost:8080/"
        },
        "id": "1d8o5-WzcCBD",
        "outputId": "b037c994-7695-4834-93a1-8ef259b3eb26"
      },
      "outputs": [
        {
          "output_type": "stream",
          "name": "stdout",
          "text": [
            "r2 after CV 0.475541480094577\n",
            "MSE AFTER CV: 0.04148921542240231\n",
            "RMSE AFTER CV: 0.2036890164500833\n"
          ]
        }
      ],
      "source": [
        "cv=LeaveOneOut()\n",
        "pred = cross_val_predict(reg, X_train, y_train, cv=cv)\n",
        "R2 = metrics.r2_score(y_train, pred)\n",
        "MSE=metrics.mean_squared_error(y_train, pred)\n",
        "RMSE=sqrt(MSE)\n",
        "print('r2 after CV',R2)\n",
        "print ('MSE AFTER CV:', MSE)\n",
        "print('RMSE AFTER CV:',RMSE)"
      ]
    },
    {
      "cell_type": "code",
      "execution_count": 36,
      "metadata": {
        "colab": {
          "base_uri": "https://localhost:8080/"
        },
        "id": "7ZfMgf79Zux0",
        "outputId": "da3446bb-3a10-47b1-bc06-32133286ce65"
      },
      "outputs": [
        {
          "output_type": "stream",
          "name": "stdout",
          "text": [
            "0.12379092719935314\n"
          ]
        }
      ],
      "source": [
        "cv=LeaveOneOut()\n",
        "y_pred = cross_val_predict(reg, X_train, y_train, cv=cv)\n",
        "r2_loocv= r2_score(y_pred,y_train)\n",
        "print(r2_loocv)"
      ]
    },
    {
      "cell_type": "markdown",
      "metadata": {
        "id": "YJ8gPEAPZwAO"
      },
      "source": [
        "LEAVE OUT ONE CROSS VALIDATION TEST SET"
      ]
    },
    {
      "cell_type": "code",
      "execution_count": 37,
      "metadata": {
        "colab": {
          "base_uri": "https://localhost:8080/"
        },
        "id": "UTO_TLLfyZ9P",
        "outputId": "98970805-629e-41ad-f646-6adc952dfe06"
      },
      "outputs": [
        {
          "output_type": "stream",
          "name": "stdout",
          "text": [
            "the root mean squared erro 0.16576577108080487\n",
            "the mean squared error 0.027478290862013803\n"
          ]
        }
      ],
      "source": [
        "cv=LeaveOneOut()\n",
        "scores = cross_val_score(reg,X_test, y_test, scoring='neg_mean_squared_error',cv=cv)\n",
        "RMSE=sqrt(mean(absolute(scores)))\n",
        "MSE=(absolute(mean(scores)))\n",
        "print('the root mean squared erro',RMSE)\n",
        "print('the mean squared error',MSE)"
      ]
    },
    {
      "cell_type": "code",
      "execution_count": 38,
      "metadata": {
        "colab": {
          "base_uri": "https://localhost:8080/"
        },
        "id": "Ad0-pLAvbFEB",
        "outputId": "3fc82df2-eee6-4eaa-e009-3e8a1d0b0474"
      },
      "outputs": [
        {
          "output_type": "stream",
          "name": "stdout",
          "text": [
            "r2 after CV -0.03576203136066769\n",
            "MSE AFTER CV: 0.027478290862013803\n",
            "RMSE AFTER CV: 0.16576577108080487\n"
          ]
        }
      ],
      "source": [
        "cv=LeaveOneOut()\n",
        "pred = cross_val_predict(reg, X_test, y_test, cv=cv)\n",
        "R2 = metrics.r2_score(y_test, pred)\n",
        "MSE=metrics.mean_squared_error(y_test, pred)\n",
        "RMSE=sqrt(MSE)\n",
        "print('r2 after CV',R2)\n",
        "print ('MSE AFTER CV:', MSE)\n",
        "print('RMSE AFTER CV:',RMSE)"
      ]
    },
    {
      "cell_type": "code",
      "execution_count": 39,
      "metadata": {
        "colab": {
          "base_uri": "https://localhost:8080/"
        },
        "id": "Kehpesb0cWDy",
        "outputId": "3ff288b3-c8a6-4e43-a905-a6e2639d7a52"
      },
      "outputs": [
        {
          "output_type": "stream",
          "name": "stdout",
          "text": [
            "0.12379092719935314\n"
          ]
        }
      ],
      "source": [
        "cv=LeaveOneOut()\n",
        "y_pred = cross_val_predict(reg, X_train, y_train, cv=cv)\n",
        "r2_loocv= r2_score(y_pred,y_train)\n",
        "print(r2_loocv)"
      ]
    },
    {
      "cell_type": "markdown",
      "metadata": {
        "id": "jzd2jZrraY6k"
      },
      "source": [
        "GRID SERACH CV FOR SELECTING BEST OPTIMIZER AND ACTIVATION FUNCTION"
      ]
    },
    {
      "cell_type": "code",
      "execution_count": 40,
      "metadata": {
        "id": "J1b1m7P26cyF"
      },
      "outputs": [],
      "source": [
        "cv=KFold(n_splits=5,shuffle=True,random_state=9)"
      ]
    },
    {
      "cell_type": "code",
      "execution_count": 41,
      "metadata": {
        "colab": {
          "base_uri": "https://localhost:8080/"
        },
        "id": "9oP5tJTyC3-S",
        "outputId": "04a8ec67-307d-47d1-946d-00d029d2f9d6"
      },
      "outputs": [
        {
          "output_type": "stream",
          "name": "stdout",
          "text": [
            "Best Score: 0.16089290052788677\n",
            "Best Hyperparameters: {'solver': 'sgd'}\n"
          ]
        }
      ],
      "source": [
        "#performing Gridsearch for TESTING DIFFERENT OPTIMIZER\n",
        "# define the grid search parameters\n",
        "model=reg\n",
        "param = {\n",
        "    'solver':['adam','sgd','ibfgs']}\n",
        "search = GridSearchCV(model, param, scoring='r2', n_jobs=-1, cv=cv)\n",
        "# execute search\n",
        "result = search.fit(X_train, y_train)\n",
        "print('Best Score: %s' % result.best_score_)\n",
        "print('Best Hyperparameters: %s' % result.best_params_)"
      ]
    },
    {
      "cell_type": "code",
      "execution_count": 42,
      "metadata": {
        "colab": {
          "base_uri": "https://localhost:8080/"
        },
        "id": "7LFOfVkWTaRM",
        "outputId": "7df82c47-74fd-4556-b357-c3fe4c5099c5"
      },
      "outputs": [
        {
          "output_type": "stream",
          "name": "stdout",
          "text": [
            "Best Score: 0.5088599527487612\n",
            "Best Hyperparameters: {'activation': 'relu'}\n"
          ]
        }
      ],
      "source": [
        "#Grid search for the best activation function\n",
        "model=reg\n",
        "param = {\n",
        "    'activation':['relu','tahn','identity','softmax','logistics']}\n",
        "search = GridSearchCV(model, param, scoring='r2', n_jobs=-1, cv=cv)\n",
        "# execute search\n",
        "result = search.fit(X_train, y_train)\n",
        "print('Best Score: %s' % result.best_score_)\n",
        "print('Best Hyperparameters: %s' % result.best_params_)"
      ]
    },
    {
      "cell_type": "markdown",
      "metadata": {
        "id": "BQqeYJViHr-U"
      },
      "source": [
        "FINAL MODEL\n"
      ]
    },
    {
      "cell_type": "code",
      "source": [
        "y_test"
      ],
      "metadata": {
        "colab": {
          "base_uri": "https://localhost:8080/"
        },
        "id": "aKVnRBE5tnJS",
        "outputId": "fab780e2-f18e-40c5-f9c5-64643a9b48c2"
      },
      "execution_count": 46,
      "outputs": [
        {
          "output_type": "execute_result",
          "data": {
            "text/plain": [
              "array([[0.93344978, 0.7708992 , 1.        , 0.97238497, 0.84545314,\n",
              "        0.87065821, 0.31528444, 0.84545314, 0.93344978, 0.8501404 ,\n",
              "        0.70841717, 0.72659135, 0.76329346, 0.73753565]])"
            ]
          },
          "metadata": {},
          "execution_count": 46
        }
      ]
    },
    {
      "cell_type": "code",
      "source": [
        "y_pred"
      ],
      "metadata": {
        "colab": {
          "base_uri": "https://localhost:8080/"
        },
        "id": "lg-3SUT7trm_",
        "outputId": "9a076790-ea5a-4518-d06b-aec0242bb77e"
      },
      "execution_count": 53,
      "outputs": [
        {
          "output_type": "execute_result",
          "data": {
            "text/plain": [
              "array([0.79784195, 0.74724789, 0.85407619, 0.90048852, 0.94440321,\n",
              "       0.80509218, 0.30056083, 0.91948157, 0.85100469, 0.8187002 ,\n",
              "       0.7931046 , 0.62644152, 0.84089026, 0.80276724])"
            ]
          },
          "metadata": {},
          "execution_count": 53
        }
      ]
    },
    {
      "cell_type": "code",
      "source": [
        "y_test=y_test.reshape(1,-1)\n",
        "y_pred=y_pred.reshape(1,-1)"
      ],
      "metadata": {
        "id": "rmtYb-46kU2h"
      },
      "execution_count": 54,
      "outputs": []
    },
    {
      "cell_type": "code",
      "source": [
        "#Visualizing test and pred set\n",
        "plt.scatter(y_test, y_pred)\n",
        "plt.xlabel('true values')\n",
        "plt.ylabel('predictions')"
      ],
      "metadata": {
        "colab": {
          "base_uri": "https://localhost:8080/",
          "height": 378
        },
        "id": "QeBbN5BpJrDs",
        "outputId": "399cb572-a7d3-4924-c1ce-8c8f85f39b3f"
      },
      "execution_count": 55,
      "outputs": [
        {
          "output_type": "execute_result",
          "data": {
            "text/plain": [
              "Text(0, 0.5, 'predictions')"
            ]
          },
          "metadata": {},
          "execution_count": 55
        },
        {
          "output_type": "display_data",
          "data": {
            "text/plain": [
              "<Figure size 576x396 with 1 Axes>"
            ],
            "image/png": "[encoded data removed]"
          },
          "metadata": {}
        }
      ]
    },
    {
      "cell_type": "markdown",
      "source": [
        "TESTING WITH EXTERNAL TEST SET"
      ],
      "metadata": {
        "id": "bGdoW2FLuPgl"
      }
    },
    {
      "cell_type": "code",
      "execution_count": 43,
      "metadata": {
        "colab": {
          "base_uri": "https://localhost:8080/"
        },
        "id": "KZrJDDECxCDY",
        "outputId": "772a000a-f03d-4323-bf9d-3c14dbb5bbff"
      },
      "outputs": [
        {
          "output_type": "stream",
          "name": "stdout",
          "text": [
            "0.44225226747731305\n",
            "0.03936784241875849\n",
            "0.19841331210067154\n"
          ]
        },
        {
          "output_type": "execute_result",
          "data": {
            "text/plain": [
              "115"
            ]
          },
          "metadata": {},
          "execution_count": 43
        }
      ],
      "source": [
        "pred = reg.predict(ex_x)\n",
        "r2 =r2_score(ex_y, pred)\n",
        "MSE=mean_squared_error(ex_y, pred )\n",
        "print(r2)\n",
        "print(MSE)\n",
        "RMSE=sqrt(MSE)\n",
        "print(RMSE)\n",
        "len(pred)"
      ]
    },
    {
      "cell_type": "markdown",
      "metadata": {
        "id": "psjYs8HQgDuW"
      },
      "source": [
        "CORRELATION METRICS FOR TEST AND PREDICTED OUTCOME"
      ]
    },
    {
      "cell_type": "code",
      "execution_count": 56,
      "metadata": {
        "colab": {
          "base_uri": "https://localhost:8080/"
        },
        "id": "Kxe5l65fgFjh",
        "outputId": "5a6c9101-0c11-483a-bf4b-f623e47b2c51"
      },
      "outputs": [
        {
          "output_type": "execute_result",
          "data": {
            "text/plain": [
              "array([[1.        , 0.86604014],\n",
              "       [0.86604014, 1.        ]])"
            ]
          },
          "metadata": {},
          "execution_count": 56
        }
      ],
      "source": [
        "#CORRELATION FOR TEST and PREDICTED OUTCOME\n",
        "corr_1 = np.corrcoef(y_test.ravel(), y_pred.ravel())\n",
        "corr_1"
      ]
    },
    {
      "cell_type": "code",
      "execution_count": 57,
      "metadata": {
        "colab": {
          "base_uri": "https://localhost:8080/"
        },
        "id": "UaH6MxAMiK2c",
        "outputId": "58e0f234-5403-4804-963c-b9e41f0887bc"
      },
      "outputs": [
        {
          "output_type": "execute_result",
          "data": {
            "text/plain": [
              "array([[0.02857027, 0.02340768],\n",
              "       [0.02340768, 0.02556974]])"
            ]
          },
          "metadata": {},
          "execution_count": 57
        }
      ],
      "source": [
        "#COVARIANCE FOR TEST and PREDICTED OUTCOME\n",
        "Cov=np.cov(y_test.ravel(), y_pred.ravel())\n",
        "Cov"
      ]
    },
    {
      "cell_type": "markdown",
      "metadata": {
        "id": "05Y1J6Ujikre"
      },
      "source": [
        "PREDICTING WITH THE EXTERNAL DATASET"
      ]
    },
    {
      "cell_type": "code",
      "execution_count": 58,
      "metadata": {
        "colab": {
          "base_uri": "https://localhost:8080/",
          "height": 378
        },
        "id": "aVxqD-SDi3up",
        "outputId": "2de04af4-445c-424a-8ef9-6ce4f0df693d"
      },
      "outputs": [
        {
          "output_type": "execute_result",
          "data": {
            "text/plain": [
              "Text(0, 0.5, 'predictions')"
            ]
          },
          "metadata": {},
          "execution_count": 58
        },
        {
          "output_type": "display_data",
          "data": {
            "text/plain": [
              "<Figure size 576x396 with 1 Axes>"
            ],
            "image/png": "[encoded data removed]"
          },
          "metadata": {}
        }
      ],
      "source": [
        "#Visualizing test and pred set\n",
        "plt.scatter(ex_y, pred)\n",
        "plt.xlabel('true values')\n",
        "plt.ylabel('predictions')"
      ]
    },
    {
      "cell_type": "markdown",
      "metadata": {
        "id": "I9Myo0IcjAth"
      },
      "source": [
        "CORRELATION METRICS for EXTERNAL DATA SET"
      ]
    },
    {
      "cell_type": "code",
      "execution_count": 59,
      "metadata": {
        "colab": {
          "base_uri": "https://localhost:8080/"
        },
        "id": "nk5cqrq7jMj7",
        "outputId": "97782b09-b04b-4352-d8db-8c117ec5c04a"
      },
      "outputs": [
        {
          "output_type": "stream",
          "name": "stdout",
          "text": [
            "(115, 3)\n",
            "(115, 1)\n"
          ]
        }
      ],
      "source": [
        "print(ex_x.shape)\n",
        "print(ex_y.shape)"
      ]
    },
    {
      "cell_type": "code",
      "execution_count": 60,
      "metadata": {
        "id": "ytfBAkJujnZF"
      },
      "outputs": [],
      "source": [
        "ex_y.shape=(115,)#cHANGE SHAPE AND DIMENSION"
      ]
    },
    {
      "cell_type": "code",
      "execution_count": 61,
      "metadata": {
        "colab": {
          "base_uri": "https://localhost:8080/"
        },
        "id": "0t4fMaw0jTe1",
        "outputId": "75c0274e-a082-4ffa-db13-8a343a4c3178"
      },
      "outputs": [
        {
          "output_type": "execute_result",
          "data": {
            "text/plain": [
              "array([[0.07120275, 0.03544696],\n",
              "       [0.03544696, 0.03769888]])"
            ]
          },
          "metadata": {},
          "execution_count": 61
        }
      ],
      "source": [
        "#COVARIANCE FOR EXTERNALDATASET\n",
        "Cov=np.cov(ex_y, pred )\n",
        "Cov"
      ]
    },
    {
      "cell_type": "code",
      "execution_count": 62,
      "metadata": {
        "colab": {
          "base_uri": "https://localhost:8080/"
        },
        "id": "mZ5N19GujvNp",
        "outputId": "95a55773-e2b7-45ce-a400-5ba90378dc0e"
      },
      "outputs": [
        {
          "output_type": "execute_result",
          "data": {
            "text/plain": [
              "array([[1.        , 0.68417369],\n",
              "       [0.68417369, 1.        ]])"
            ]
          },
          "metadata": {},
          "execution_count": 62
        }
      ],
      "source": [
        "#PEARSON CORRELATION  FOR EXTERNAL DATASET\n",
        "corr_1=np.corrcoef(ex_y, pred )\n",
        "corr_1"
      ]
    },
    {
      "cell_type": "code",
      "execution_count": 63,
      "metadata": {
        "id": "dsV8Fk1jqOT7"
      },
      "outputs": [],
      "source": [
        "#get the inverse transform of all predicted outcome via external dataset\n",
        "def inverse_transform(y_pred):\n",
        "  pred=TargetVarScalerFit.inverse_transform(y_pred)\n",
        "  return pred"
      ]
    },
    {
      "cell_type": "code",
      "execution_count": 64,
      "metadata": {
        "id": "ZCjjTcdgrPry"
      },
      "outputs": [],
      "source": [
        "#reshape all predicted and target to 2d numpy array\n",
        "ex_2d = ex_y.reshape(-1, 1)\n",
        "ex_test=inverse_transform(ex_2d)\n",
        "pred_2d = pred.reshape(-1, 1)\n",
        "ex_pred=inverse_transform(pred_2d)"
      ]
    },
    {
      "cell_type": "code",
      "execution_count": 65,
      "metadata": {
        "id": "j-2ZtG9pVPFj"
      },
      "outputs": [],
      "source": [
        "#Convert the to a dataframe\n",
        "df_test = pd.DataFrame(ex_test)\n",
        "df_pred=pd.DataFrame(ex_pred)"
      ]
    },
    {
      "cell_type": "code",
      "execution_count": 66,
      "metadata": {
        "id": "n8WrJndOyBSo"
      },
      "outputs": [],
      "source": [
        "#Collect all required data for comparism\n",
        "ANN_MODEL1=CosEu1[['log_DPRA_mean','log_hCLAT_MIT','log_KS.Ima']]\n",
        "ANN_MODEL1['ANNmodel1_Set']=\"Test\"\n",
        "ANN_MODEL1=ANN_MODEL1.reset_index()\n",
        "ANN_MODEL1['test_pred']=df_pred\n",
        "ANN_MODEL1['Original_pred']=df_test\n",
        "ANN_MODEL1=ANN_MODEL1.set_index('CASRN')"
      ]
    },
    {
      "cell_type": "code",
      "execution_count": 67,
      "metadata": {
        "id": "W8m0Jy6-y1xw"
      },
      "outputs": [],
      "source": [
        "#Add predictions to main merged dataset\n",
        "merge['Ewc_model_pred']=ANN_MODEL1['test_pred']\n",
        "merge['Ewc_model_pred']=merge['Ewc_model_pred'].replace(np.nan,'Neg')"
      ]
    },
    {
      "cell_type": "code",
      "execution_count": 70,
      "metadata": {
        "id": "kl3oNXCgy7KA"
      },
      "outputs": [],
      "source": [
        "merge[\"EWC_Model1_Potency_Pred\"] =np.nan\n",
        "merge[\"EWC_Model1_Potency_Pred.3class\"] = np.nan\n",
        "merge['Ewc_model_pred'] = pd.to_numeric(merge['Ewc_model_pred'],errors='coerce')\n"
      ]
    },
    {
      "cell_type": "code",
      "execution_count": 71,
      "metadata": {
        "id": "3BJTDkrfzapv"
      },
      "outputs": [],
      "source": [
        "# apply the conditions and labels\n",
        "merge.loc[merge['Ewc_model_pred'] < (-1), \"EWC_Model1_Potency_Pred\" ] = 'Extreme'\n",
        "merge.loc[(merge['Ewc_model_pred'] >= (-1)) & (merge['Ewc_model_pred'] < 0), \"EWC_Model1_Potency_Pred\"] = 'Strong'\n",
        "merge.loc[(merge['Ewc_model_pred'] >= 0) & (merge['Ewc_model_pred'] < 1), \"EWC_Model1_Potency_Pred\"] = 'Moderate'\n",
        "merge.loc[merge['Ewc_model_pred'] >= 1, \"EWC_Model1_Potency_Pred\"] = 'Weak'\n",
        "merge.loc[merge['Ewc_model_pred'] >=np.nan, \"EWC_Model1_Potency_Pred\"] = 'Non'"
      ]
    },
    {
      "cell_type": "code",
      "execution_count": 69,
      "metadata": {
        "id": "_78CmfvBzhiH"
      },
      "outputs": [],
      "source": [
        "# create the new column and set the initial values\n",
        "merge[\"EWC_Model1_Potency_Pred.3class\"] = merge[\"EWC_Model1_Potency_Pred\"]\n",
        "# apply the conditions and labels\n",
        "merge.loc[merge[\"EWC_Model1_Potency_Pred\"] == \"Extreme\", \"EWC_Model1_Potency_Pred.3class\"] = \"Strong\"\n",
        "merge.loc[merge[\"EWC_Model1_Potency_Pred\"] == \"Moderate\", \"EWC_Model1_Potency_Pred.3class\"] = \"Weak\"\n",
        "\n",
        "# convert the column to a categorical variable with the specified levels\n",
        "merge[\"EWC_Model1_Potency_Pred.3class\"] = pd.Categorical(merge[\"EWC_Model1_Potency_Pred.3class\"], categories=[\"Non\", \"Weak\", \"Strong\"])"
      ]
    },
    {
      "cell_type": "code",
      "execution_count": 72,
      "metadata": {
        "id": "aZKlJuZ2zrgP"
      },
      "outputs": [],
      "source": [
        "# create the new column and set the initial values\n",
        "merge['EWC_Model1_Call'] = pd.NA\n",
        "# apply the conditions and labels\n",
        "merge.loc[merge[\"EWC_Model1_Potency_Pred\"].notnull(), 'EWC_Model1_Call'] = 1\n",
        "merge.loc[merge[\"EWC_Model1_Potency_Pred\"].isnull(), 'EWC_Model1_Call'] = 0"
      ]
    },
    {
      "cell_type": "code",
      "execution_count": 91,
      "metadata": {
        "colab": {
          "base_uri": "https://localhost:8080/"
        },
        "id": "gBpr7HcEe07w",
        "outputId": "c3840212-9b40-4627-d8f0-aea39d419825"
      },
      "outputs": [
        {
          "output_type": "execute_result",
          "data": {
            "text/plain": [
              "array(['Moderate', 'Strong', 'Weak', nan], dtype=object)"
            ]
          },
          "metadata": {},
          "execution_count": 91
        }
      ],
      "source": [
        "merge[\"EWC_Model1_Potency_Pred\"].unique()"
      ]
    },
    {
      "cell_type": "code",
      "execution_count": 92,
      "metadata": {
        "colab": {
          "base_uri": "https://localhost:8080/"
        },
        "id": "Tnj_zVFSfJ42",
        "outputId": "f0eba23d-d948-4bd0-8b91-271f23ef30f8"
      },
      "outputs": [
        {
          "output_type": "execute_result",
          "data": {
            "text/plain": [
              "array([1, 0], dtype=object)"
            ]
          },
          "metadata": {},
          "execution_count": 92
        }
      ],
      "source": [
        "merge['EWC_Model1_Call'].unique()"
      ]
    },
    {
      "cell_type": "code",
      "execution_count": 93,
      "metadata": {
        "colab": {
          "base_uri": "https://localhost:8080/",
          "height": 237
        },
        "id": "1e36Ofk2eVml",
        "outputId": "e3331e66-9c65-4cc4-d382-ab7cd8ed19a8"
      },
      "outputs": [
        {
          "output_type": "execute_result",
          "data": {
            "text/plain": [
              "           EWC_Model1_Potency_Pred EWC_Model1_Call\n",
              "CASRN                                             \n",
              "35691-65-7                Moderate               1\n",
              "149-30-4                  Moderate               1\n",
              "104-55-2                  Moderate               1\n",
              "137-26-8                    Strong               1\n",
              "69-72-7                       Weak               1"
            ],
            "text/html": [
              "\n",
              "  <div id=\"df-8f5f15e4-44ea-4512-a037-53541e9c8a9b\">\n",
              "    <div class=\"colab-df-container\">\n",
              "      <div>\n",
              "<style scoped>\n",
              "    .dataframe tbody tr th:only-of-type {\n",
              "        vertical-align: middle;\n",
              "    }\n",
              "\n",
              "    .dataframe tbody tr th {\n",
              "        vertical-align: top;\n",
              "    }\n",
              "\n",
              "    .dataframe thead th {\n",
              "        text-align: right;\n",
              "    }\n",
              "</style>\n",
              "<table border=\"1\" class=\"dataframe\">\n",
              "  <thead>\n",
              "    <tr style=\"text-align: right;\">\n",
              "      <th></th>\n",
              "      <th>EWC_Model1_Potency_Pred</th>\n",
              "      <th>EWC_Model1_Call</th>\n",
              "    </tr>\n",
              "    <tr>\n",
              "      <th>CASRN</th>\n",
              "      <th></th>\n",
              "      <th></th>\n",
              "    </tr>\n",
              "  </thead>\n",
              "  <tbody>\n",
              "    <tr>\n",
              "      <th>35691-65-7</th>\n",
              "      <td>Moderate</td>\n",
              "      <td>1</td>\n",
              "    </tr>\n",
              "    <tr>\n",
              "      <th>149-30-4</th>\n",
              "      <td>Moderate</td>\n",
              "      <td>1</td>\n",
              "    </tr>\n",
              "    <tr>\n",
              "      <th>104-55-2</th>\n",
              "      <td>Moderate</td>\n",
              "      <td>1</td>\n",
              "    </tr>\n",
              "    <tr>\n",
              "      <th>137-26-8</th>\n",
              "      <td>Strong</td>\n",
              "      <td>1</td>\n",
              "    </tr>\n",
              "    <tr>\n",
              "      <th>69-72-7</th>\n",
              "      <td>Weak</td>\n",
              "      <td>1</td>\n",
              "    </tr>\n",
              "  </tbody>\n",
              "</table>\n",
              "</div>\n",
              "      <button class=\"colab-df-convert\" onclick=\"convertToInteractive('df-8f5f15e4-44ea-4512-a037-53541e9c8a9b')\"\n",
              "              title=\"Convert this dataframe to an interactive table.\"\n",
              "              style=\"display:none;\">\n",
              "        \n",
              "  <svg xmlns=\"http://www.w3.org/2000/svg\" height=\"24px\"viewBox=\"0 0 24 24\"\n",
              "       width=\"24px\">\n",
              "    <path d=\"M0 0h24v24H0V0z\" fill=\"none\"/>\n",
              "    <path d=\"M18.56 5.44l.94 2.06.94-2.06 2.06-.94-2.06-.94-.94-2.06-.94 2.06-2.06.94zm-11 1L8.5 8.5l.94-2.06 2.06-.94-2.06-.94L8.5 2.5l-.94 2.06-2.06.94zm10 10l.94 2.06.94-2.06 2.06-.94-2.06-.94-.94-2.06-.94 2.06-2.06.94z\"/><path d=\"M17.41 7.96l-1.37-1.37c-.4-.4-.92-.59-1.43-.59-.52 0-1.04.2-1.43.59L10.3 9.45l-7.72 7.72c-.78.78-.78 2.05 0 2.83L4 21.41c.39.39.9.59 1.41.59.51 0 1.02-.2 1.41-.59l7.78-7.78 2.81-2.81c.8-.78.8-2.07 0-2.86zM5.41 20L4 18.59l7.72-7.72 1.47 1.35L5.41 20z\"/>\n",
              "  </svg>\n",
              "      </button>\n",
              "      \n",
              "  <style>\n",
              "    .colab-df-container {\n",
              "      display:flex;\n",
              "      flex-wrap:wrap;\n",
              "      gap: 12px;\n",
              "    }\n",
              "\n",
              "    .colab-df-convert {\n",
              "      background-color: #E8F0FE;\n",
              "      border: none;\n",
              "      border-radius: 50%;\n",
              "      cursor: pointer;\n",
              "      display: none;\n",
              "      fill: #1967D2;\n",
              "      height: 32px;\n",
              "      padding: 0 0 0 0;\n",
              "      width: 32px;\n",
              "    }\n",
              "\n",
              "    .colab-df-convert:hover {\n",
              "      background-color: #E2EBFA;\n",
              "      box-shadow: 0px 1px 2px rgba(60, 64, 67, 0.3), 0px 1px 3px 1px rgba(60, 64, 67, 0.15);\n",
              "      fill: #174EA6;\n",
              "    }\n",
              "\n",
              "    [theme=dark] .colab-df-convert {\n",
              "      background-color: #3B4455;\n",
              "      fill: #D2E3FC;\n",
              "    }\n",
              "\n",
              "    [theme=dark] .colab-df-convert:hover {\n",
              "      background-color: #434B5C;\n",
              "      box-shadow: 0px 1px 3px 1px rgba(0, 0, 0, 0.15);\n",
              "      filter: drop-shadow(0px 1px 2px rgba(0, 0, 0, 0.3));\n",
              "      fill: #FFFFFF;\n",
              "    }\n",
              "  </style>\n",
              "\n",
              "      <script>\n",
              "        const buttonEl =\n",
              "          document.querySelector('#df-8f5f15e4-44ea-4512-a037-53541e9c8a9b button.colab-df-convert');\n",
              "        buttonEl.style.display =\n",
              "          google.colab.kernel.accessAllowed ? 'block' : 'none';\n",
              "\n",
              "        async function convertToInteractive(key) {\n",
              "          const element = document.querySelector('#df-8f5f15e4-44ea-4512-a037-53541e9c8a9b');\n",
              "          const dataTable =\n",
              "            await google.colab.kernel.invokeFunction('convertToInteractive',\n",
              "                                                     [key], {});\n",
              "          if (!dataTable) return;\n",
              "\n",
              "          const docLinkHtml = 'Like what you see? Visit the ' +\n",
              "            '<a target=\"_blank\" href=https://colab.research.google.com/notebooks/data_table.ipynb>data table notebook</a>'\n",
              "            + ' to learn more about interactive tables.';\n",
              "          element.innerHTML = '';\n",
              "          dataTable['output_type'] = 'display_data';\n",
              "          await google.colab.output.renderOutput(dataTable, element);\n",
              "          const docLink = document.createElement('div');\n",
              "          docLink.innerHTML = docLinkHtml;\n",
              "          element.appendChild(docLink);\n",
              "        }\n",
              "      </script>\n",
              "    </div>\n",
              "  </div>\n",
              "  "
            ]
          },
          "metadata": {},
          "execution_count": 93
        }
      ],
      "source": [
        "merge[[\"EWC_Model1_Potency_Pred\",'EWC_Model1_Call']].head()"
      ]
    },
    {
      "cell_type": "code",
      "execution_count": 94,
      "metadata": {
        "colab": {
          "base_uri": "https://localhost:8080/",
          "height": 455
        },
        "id": "hlHjuQkTdN1D",
        "outputId": "1a1d9aac-e5fa-48aa-dc4d-d171c905232d"
      },
      "outputs": [
        {
          "output_type": "execute_result",
          "data": {
            "text/plain": [
              "            Ewc_model_pred EWC_Model1_Potency_Pred\n",
              "CASRN                                             \n",
              "35691-65-7        0.029886                Moderate\n",
              "149-30-4          0.580185                Moderate\n",
              "104-55-2          0.009900                Moderate\n",
              "137-26-8         -0.362351                  Strong\n",
              "69-72-7           1.493339                    Weak\n",
              "...                    ...                     ...\n",
              "101-39-3          0.432608                Moderate\n",
              "111-80-8          0.669744                Moderate\n",
              "93-51-6           0.631268                Moderate\n",
              "122-78-1          0.084575                Moderate\n",
              "17369-59-4        0.529751                Moderate\n",
              "\n",
              "[127 rows x 2 columns]"
            ],
            "text/html": [
              "\n",
              "  <div id=\"df-0a8b7f89-4761-444c-b87b-f9ca9d40db7f\">\n",
              "    <div class=\"colab-df-container\">\n",
              "      <div>\n",
              "<style scoped>\n",
              "    .dataframe tbody tr th:only-of-type {\n",
              "        vertical-align: middle;\n",
              "    }\n",
              "\n",
              "    .dataframe tbody tr th {\n",
              "        vertical-align: top;\n",
              "    }\n",
              "\n",
              "    .dataframe thead th {\n",
              "        text-align: right;\n",
              "    }\n",
              "</style>\n",
              "<table border=\"1\" class=\"dataframe\">\n",
              "  <thead>\n",
              "    <tr style=\"text-align: right;\">\n",
              "      <th></th>\n",
              "      <th>Ewc_model_pred</th>\n",
              "      <th>EWC_Model1_Potency_Pred</th>\n",
              "    </tr>\n",
              "    <tr>\n",
              "      <th>CASRN</th>\n",
              "      <th></th>\n",
              "      <th></th>\n",
              "    </tr>\n",
              "  </thead>\n",
              "  <tbody>\n",
              "    <tr>\n",
              "      <th>35691-65-7</th>\n",
              "      <td>0.029886</td>\n",
              "      <td>Moderate</td>\n",
              "    </tr>\n",
              "    <tr>\n",
              "      <th>149-30-4</th>\n",
              "      <td>0.580185</td>\n",
              "      <td>Moderate</td>\n",
              "    </tr>\n",
              "    <tr>\n",
              "      <th>104-55-2</th>\n",
              "      <td>0.009900</td>\n",
              "      <td>Moderate</td>\n",
              "    </tr>\n",
              "    <tr>\n",
              "      <th>137-26-8</th>\n",
              "      <td>-0.362351</td>\n",
              "      <td>Strong</td>\n",
              "    </tr>\n",
              "    <tr>\n",
              "      <th>69-72-7</th>\n",
              "      <td>1.493339</td>\n",
              "      <td>Weak</td>\n",
              "    </tr>\n",
              "    <tr>\n",
              "      <th>...</th>\n",
              "      <td>...</td>\n",
              "      <td>...</td>\n",
              "    </tr>\n",
              "    <tr>\n",
              "      <th>101-39-3</th>\n",
              "      <td>0.432608</td>\n",
              "      <td>Moderate</td>\n",
              "    </tr>\n",
              "    <tr>\n",
              "      <th>111-80-8</th>\n",
              "      <td>0.669744</td>\n",
              "      <td>Moderate</td>\n",
              "    </tr>\n",
              "    <tr>\n",
              "      <th>93-51-6</th>\n",
              "      <td>0.631268</td>\n",
              "      <td>Moderate</td>\n",
              "    </tr>\n",
              "    <tr>\n",
              "      <th>122-78-1</th>\n",
              "      <td>0.084575</td>\n",
              "      <td>Moderate</td>\n",
              "    </tr>\n",
              "    <tr>\n",
              "      <th>17369-59-4</th>\n",
              "      <td>0.529751</td>\n",
              "      <td>Moderate</td>\n",
              "    </tr>\n",
              "  </tbody>\n",
              "</table>\n",
              "<p>127 rows × 2 columns</p>\n",
              "</div>\n",
              "      <button class=\"colab-df-convert\" onclick=\"convertToInteractive('df-0a8b7f89-4761-444c-b87b-f9ca9d40db7f')\"\n",
              "              title=\"Convert this dataframe to an interactive table.\"\n",
              "              style=\"display:none;\">\n",
              "        \n",
              "  <svg xmlns=\"http://www.w3.org/2000/svg\" height=\"24px\"viewBox=\"0 0 24 24\"\n",
              "       width=\"24px\">\n",
              "    <path d=\"M0 0h24v24H0V0z\" fill=\"none\"/>\n",
              "    <path d=\"M18.56 5.44l.94 2.06.94-2.06 2.06-.94-2.06-.94-.94-2.06-.94 2.06-2.06.94zm-11 1L8.5 8.5l.94-2.06 2.06-.94-2.06-.94L8.5 2.5l-.94 2.06-2.06.94zm10 10l.94 2.06.94-2.06 2.06-.94-2.06-.94-.94-2.06-.94 2.06-2.06.94z\"/><path d=\"M17.41 7.96l-1.37-1.37c-.4-.4-.92-.59-1.43-.59-.52 0-1.04.2-1.43.59L10.3 9.45l-7.72 7.72c-.78.78-.78 2.05 0 2.83L4 21.41c.39.39.9.59 1.41.59.51 0 1.02-.2 1.41-.59l7.78-7.78 2.81-2.81c.8-.78.8-2.07 0-2.86zM5.41 20L4 18.59l7.72-7.72 1.47 1.35L5.41 20z\"/>\n",
              "  </svg>\n",
              "      </button>\n",
              "      \n",
              "  <style>\n",
              "    .colab-df-container {\n",
              "      display:flex;\n",
              "      flex-wrap:wrap;\n",
              "      gap: 12px;\n",
              "    }\n",
              "\n",
              "    .colab-df-convert {\n",
              "      background-color: #E8F0FE;\n",
              "      border: none;\n",
              "      border-radius: 50%;\n",
              "      cursor: pointer;\n",
              "      display: none;\n",
              "      fill: #1967D2;\n",
              "      height: 32px;\n",
              "      padding: 0 0 0 0;\n",
              "      width: 32px;\n",
              "    }\n",
              "\n",
              "    .colab-df-convert:hover {\n",
              "      background-color: #E2EBFA;\n",
              "      box-shadow: 0px 1px 2px rgba(60, 64, 67, 0.3), 0px 1px 3px 1px rgba(60, 64, 67, 0.15);\n",
              "      fill: #174EA6;\n",
              "    }\n",
              "\n",
              "    [theme=dark] .colab-df-convert {\n",
              "      background-color: #3B4455;\n",
              "      fill: #D2E3FC;\n",
              "    }\n",
              "\n",
              "    [theme=dark] .colab-df-convert:hover {\n",
              "      background-color: #434B5C;\n",
              "      box-shadow: 0px 1px 3px 1px rgba(0, 0, 0, 0.15);\n",
              "      filter: drop-shadow(0px 1px 2px rgba(0, 0, 0, 0.3));\n",
              "      fill: #FFFFFF;\n",
              "    }\n",
              "  </style>\n",
              "\n",
              "      <script>\n",
              "        const buttonEl =\n",
              "          document.querySelector('#df-0a8b7f89-4761-444c-b87b-f9ca9d40db7f button.colab-df-convert');\n",
              "        buttonEl.style.display =\n",
              "          google.colab.kernel.accessAllowed ? 'block' : 'none';\n",
              "\n",
              "        async function convertToInteractive(key) {\n",
              "          const element = document.querySelector('#df-0a8b7f89-4761-444c-b87b-f9ca9d40db7f');\n",
              "          const dataTable =\n",
              "            await google.colab.kernel.invokeFunction('convertToInteractive',\n",
              "                                                     [key], {});\n",
              "          if (!dataTable) return;\n",
              "\n",
              "          const docLinkHtml = 'Like what you see? Visit the ' +\n",
              "            '<a target=\"_blank\" href=https://colab.research.google.com/notebooks/data_table.ipynb>data table notebook</a>'\n",
              "            + ' to learn more about interactive tables.';\n",
              "          element.innerHTML = '';\n",
              "          dataTable['output_type'] = 'display_data';\n",
              "          await google.colab.output.renderOutput(dataTable, element);\n",
              "          const docLink = document.createElement('div');\n",
              "          docLink.innerHTML = docLinkHtml;\n",
              "          element.appendChild(docLink);\n",
              "        }\n",
              "      </script>\n",
              "    </div>\n",
              "  </div>\n",
              "  "
            ]
          },
          "metadata": {},
          "execution_count": 94
        }
      ],
      "source": [
        "merge[['Ewc_model_pred',\"EWC_Model1_Potency_Pred\"]]"
      ]
    },
    {
      "cell_type": "code",
      "execution_count": 95,
      "metadata": {
        "id": "09otzXQ1z5zl"
      },
      "outputs": [],
      "source": [
        "merge['EWC_Model1_Potency_Pred.3class']=merge['EWC_Model1_Potency_Pred.3class'].fillna('Non')"
      ]
    },
    {
      "cell_type": "code",
      "execution_count": 96,
      "metadata": {
        "id": "qK6Z64Ubd9yi"
      },
      "outputs": [],
      "source": [
        "merge['EWC_Model1_Call'] = merge['EWC_Model1_Call'].astype('int64')"
      ]
    },
    {
      "cell_type": "code",
      "execution_count": 97,
      "metadata": {
        "colab": {
          "base_uri": "https://localhost:8080/",
          "height": 364
        },
        "id": "xlBDe_XKz_-X",
        "outputId": "c013f250-499a-43b6-8ec5-4a7c1cba8baf"
      },
      "outputs": [
        {
          "output_type": "execute_result",
          "data": {
            "text/plain": [
              "<AxesSubplot:>"
            ]
          },
          "metadata": {},
          "execution_count": 97
        },
        {
          "output_type": "display_data",
          "data": {
            "text/plain": [
              "<Figure size 576x396 with 2 Axes>"
            ],
            "image/png": "[encoded data removed]"
          },
          "metadata": {}
        }
      ],
      "source": [
        "import pandas as pd\n",
        "from sklearn.metrics import confusion_matrix\n",
        "# create the confusion matrix for LLNA harzard\n",
        "cm=confusion_matrix(merge['EWC_Model1_Call'], merge['LLNACallMNC'], labels=[1,0])\n",
        "import seaborn as sns\n",
        "sns.heatmap(cm, annot=True, fmt='d')"
      ]
    },
    {
      "cell_type": "code",
      "execution_count": 98,
      "metadata": {
        "colab": {
          "base_uri": "https://localhost:8080/",
          "height": 364
        },
        "id": "hffOHCTK_hcN",
        "outputId": "d1411e86-0dbc-4eff-ed77-dc06d78a1fca"
      },
      "outputs": [
        {
          "output_type": "execute_result",
          "data": {
            "text/plain": [
              "<AxesSubplot:>"
            ]
          },
          "metadata": {},
          "execution_count": 98
        },
        {
          "output_type": "display_data",
          "data": {
            "text/plain": [
              "<Figure size 576x396 with 2 Axes>"
            ],
            "image/png": "[encoded data removed]"
          },
          "metadata": {}
        }
      ],
      "source": [
        "# Binary Class accuracy usisng human data\n",
        "hm=confusion_matrix(merge['EWC_Model1_Call'], merge['humanCall'], labels=[1,0])\n",
        "sns.heatmap(hm, annot=True, fmt='d')"
      ]
    },
    {
      "cell_type": "code",
      "execution_count": 99,
      "metadata": {
        "colab": {
          "base_uri": "https://localhost:8080/",
          "height": 364
        },
        "id": "NT8Sam350Q5K",
        "outputId": "58b531ad-2e4e-4feb-f5a0-571436aaf731"
      },
      "outputs": [
        {
          "output_type": "execute_result",
          "data": {
            "text/plain": [
              "<AxesSubplot:>"
            ]
          },
          "metadata": {},
          "execution_count": 99
        },
        {
          "output_type": "display_data",
          "data": {
            "text/plain": [
              "<Figure size 576x396 with 2 Axes>"
            ],
            "image/png": "[encoded data removed]"
          },
          "metadata": {}
        }
      ],
      "source": [
        "# convert the columns to categorical variables with the specified levels\n",
        "merge['LLNApotency3classMNC'] = pd.Categorical(merge['LLNApotency3classMNC'], categories=[\"Non\", \"Weak\", \"Strong\"])\n",
        "merge['EWC_Model1_Potency_Pred.3class'] = pd.Categorical(merge['EWC_Model1_Potency_Pred.3class'], categories=[\"Non\", \"Weak\", \"Strong\"])\n",
        "# create the confusion matrix\n",
        "llna_3c=confusion_matrix(merge['EWC_Model1_Potency_Pred.3class'], merge['LLNApotency3classMNC'], labels=[\"Non\", \"Weak\", \"Strong\"])\n",
        "sns.heatmap(llna_3c, annot=True, fmt='d')"
      ]
    },
    {
      "cell_type": "code",
      "execution_count": 100,
      "metadata": {
        "colab": {
          "base_uri": "https://localhost:8080/",
          "height": 364
        },
        "id": "2W9f6ml1ASdI",
        "outputId": "ab9965bc-526e-4678-843c-7879001c18f3"
      },
      "outputs": [
        {
          "output_type": "execute_result",
          "data": {
            "text/plain": [
              "<AxesSubplot:>"
            ]
          },
          "metadata": {},
          "execution_count": 100
        },
        {
          "output_type": "display_data",
          "data": {
            "text/plain": [
              "<Figure size 576x396 with 2 Axes>"
            ],
            "image/png": "[encoded data removed]"
          },
          "metadata": {}
        }
      ],
      "source": [
        "# create the confusion matrix for 3 class potency and human data \n",
        "hu_3c=confusion_matrix(merge['EWC_Model1_Potency_Pred.3class'], merge['humanpotency3class'], labels=[\"Non\", \"Weak\", \"Strong\"])\n",
        "sns.heatmap(hu_3c, annot=True, fmt='d')"
      ]
    },
    {
      "cell_type": "code",
      "execution_count": 73,
      "metadata": {
        "id": "Z4eDXFUGdLCH"
      },
      "outputs": [],
      "source": [
        "import pickle"
      ]
    },
    {
      "cell_type": "code",
      "execution_count": 74,
      "metadata": {
        "id": "2CjK44vCdq_2"
      },
      "outputs": [],
      "source": [
        "#collect the model object file\n",
        "filename ='EWC_2.pkl' \n",
        "pickle.dump(reg,open(filename,'wb'))"
      ]
    },
    {
      "cell_type": "code",
      "execution_count": 75,
      "metadata": {
        "id": "b1qD5sYKDCpu"
      },
      "outputs": [],
      "source": [
        "file='minmax_scaler.pkl'\n",
        "pickle.dump(PredictorScalerFit,open(file,'wb'))"
      ]
    },
    {
      "cell_type": "code",
      "execution_count": 76,
      "metadata": {
        "id": "HoGlRpv3E_MD"
      },
      "outputs": [],
      "source": [
        "file_name='minmax_target.pkl'\n",
        "pickle.dump(TargetVarScalerFit,open(file_name,'wb'))"
      ]
    },
    {
      "cell_type": "code",
      "execution_count": 77,
      "metadata": {
        "id": "5D8znD8ydzZ-"
      },
      "outputs": [],
      "source": [
        "model = pickle.load(open(filename,'rb'))\n",
        "pred=model.predict(ex_x)"
      ]
    },
    {
      "cell_type": "code",
      "source": [
        "TargetVariable=['log_Median_NC_EC3']\n",
        "Predictors=['log_hCLAT_MIT','log_DPRA_mean','log_KS.Ima']\n",
        "X=CosEu1[Predictors]\n",
        "y=CosEu1[TargetVariable]\n",
        "PredictorScalerFitex=PredictorScaler.fit(X)\n",
        "TargetVarScalerFitex=TargetVarScaler.fit(y)\n",
        "# Generating the standardized values of X and y\n",
        "ex_x=PredictorScalerFitex.transform(X)\n",
        "ex_y=TargetVarScalerFitex.transform(y)\n",
        "ex_y.shape"
      ],
      "metadata": {
        "colab": {
          "base_uri": "https://localhost:8080/"
        },
        "id": "q_tLH37NcTss",
        "outputId": "39978967-55b2-4937-f3c4-2b9839e2f644"
      },
      "execution_count": 78,
      "outputs": [
        {
          "output_type": "execute_result",
          "data": {
            "text/plain": [
              "(115, 1)"
            ]
          },
          "metadata": {},
          "execution_count": 78
        }
      ]
    },
    {
      "cell_type": "code",
      "source": [
        "pred"
      ],
      "metadata": {
        "colab": {
          "base_uri": "https://localhost:8080/"
        },
        "id": "z2iVsmITuO4B",
        "outputId": "73bca6ba-eff0-474a-8411-46faa45ffca3"
      },
      "execution_count": 79,
      "outputs": [
        {
          "output_type": "execute_result",
          "data": {
            "text/plain": [
              "array([0.42020344, 0.58215405, 0.41432173, 0.30476958, 0.85089175,\n",
              "       0.69578937, 0.29099475, 0.32419647, 0.26311357, 0.32021028,\n",
              "       0.27477104, 0.26793151, 0.26379338, 0.54416854, 0.53206076,\n",
              "       0.21352813, 0.73376618, 0.34549574, 0.40702712, 0.49781844,\n",
              "       0.85595048, 0.53188778, 0.64634121, 0.70989199, 0.39538536,\n",
              "       0.39054475, 0.65067152, 0.79136422, 0.14530826, 0.8119373 ,\n",
              "       0.55576492, 0.55630079, 0.87148384, 0.56713887, 0.43414403,\n",
              "       0.597456  , 0.74378637, 0.37885322, 0.64200227, 0.61573514,\n",
              "       0.62409485, 0.69370198, 0.64446349, 0.57343979, 0.71846853,\n",
              "       0.75010039, 0.67599572, 0.94440321, 0.66510588, 0.51259251,\n",
              "       0.94440321, 0.56566524, 0.860122  , 0.63687992, 0.85030497,\n",
              "       0.65894097, 0.90977533, 0.81007134, 0.94440321, 0.94440321,\n",
              "       0.86196126, 0.8020932 , 0.64194394, 0.94440321, 0.70421822,\n",
              "       0.83945317, 0.81233178, 0.61434606, 0.63337041, 0.94184757,\n",
              "       0.75943569, 0.78726999, 0.54847886, 0.88754546, 0.94440321,\n",
              "       0.71922352, 0.91663254, 0.85337003, 0.94440321, 0.79264154,\n",
              "       0.84403408, 0.33621449, 0.49156225, 0.84124049, 0.70530569,\n",
              "       0.61538854, 0.92720887, 0.58322317, 0.76073494, 0.65317651,\n",
              "       0.68251219, 0.73061628, 0.72457321, 0.66659035, 0.68133788,\n",
              "       0.80500868, 0.64595361, 0.64013557, 0.56339829, 0.6607966 ,\n",
              "       0.51542913, 0.56695408, 0.54809913, 0.57804116, 0.58325053,\n",
              "       0.94440321, 0.90648559, 0.34505694, 0.70602182, 0.5554077 ,\n",
              "       0.53872281, 0.60851116, 0.59718784, 0.43629813, 0.56731157])"
            ]
          },
          "metadata": {},
          "execution_count": 79
        }
      ]
    },
    {
      "cell_type": "code",
      "execution_count": 80,
      "metadata": {
        "colab": {
          "base_uri": "https://localhost:8080/"
        },
        "id": "z1AVkwur_L2k",
        "outputId": "584e3d28-56cc-4a72-a338-2230baf93dde"
      },
      "outputs": [
        {
          "output_type": "execute_result",
          "data": {
            "text/plain": [
              "array([[ 0.02988608,  0.58018454,  0.00990039, -0.36235126,  1.4933391 ,\n",
              "         0.96631052, -0.4091573 , -0.29633987, -0.50389589, -0.30988468,\n",
              "        -0.46428451, -0.48752481, -0.50158593,  0.45111204,  0.40997055,\n",
              "        -0.67238422,  1.09535343, -0.22396621, -0.01488628,  0.29361718,\n",
              "         1.51052838,  0.40938276,  0.79828866,  1.01423039, -0.05444429,\n",
              "        -0.07089239,  0.8130028 ,  1.29106813, -0.90419126,  1.36097424,\n",
              "         0.49051586,  0.49233671,  1.5633098 ,  0.52916384,  0.07725536,\n",
              "         0.63217965,  1.12940147, -0.1106195 ,  0.78354518,  0.69429105,\n",
              "         0.72269685,  0.9592177 ,  0.79190828,  0.55057399,  1.04337296,\n",
              "         1.15085613,  0.89905289,  1.81108543,  0.86204986,  0.3438186 ,\n",
              "         1.81108543,  0.52415653,  1.52470294,  0.76613974,  1.49134526,\n",
              "         0.84110189,  1.69342199,  1.35463379,  1.81108543,  1.81108543,\n",
              "         1.53095264,  1.32752458,  0.78334699,  1.81108543,  0.99495124,\n",
              "         1.4544715 ,  1.36231466,  0.68957104,  0.75421465,  1.80240152,\n",
              "         1.18257689,  1.2771562 ,  0.46575825,  1.61788621,  1.81108543,\n",
              "         1.04593836,  1.71672238,  1.50176015,  1.81108543,  1.29540838,\n",
              "         1.47003716, -0.25550333,  0.27235904,  1.46054472,  0.99864641,\n",
              "         0.69311335,  1.75266009,  0.58381732,  1.18699166,  0.8215146 ,\n",
              "         0.92119545,  1.08465027,  1.06411629,  0.86709399,  0.91720522,\n",
              "         1.33743118,  0.79697159,  0.77720226,  0.51645359,  0.84740721,\n",
              "         0.35345725,  0.52853593,  0.46446794,  0.56620918,  0.58391032,\n",
              "         1.81108543,  1.68224365, -0.22545723,  1.00107979,  0.48930205,\n",
              "         0.4326078 ,  0.6697444 ,  0.63126845,  0.08457488,  0.52975068]])"
            ]
          },
          "metadata": {},
          "execution_count": 80
        }
      ],
      "source": [
        "target = pickle.load(open(file_name,'rb'))\n",
        "target.inverse_transform([pred])"
      ]
    },
    {
      "cell_type": "code",
      "source": [
        "#collect the model and min-max object file\n",
        "filename ='EWC_2.pkl' \n",
        "scaler='minmax_scaler.pkl'\n",
        "target='minmax_target.pkl'\n",
        "\n",
        "def load_model():\n",
        "    return pickle.load(open(filename,'rb'))\n",
        "\n",
        "def load_scaler():\n",
        "    return pickle.load(open(scaler,'rb'))\n",
        "\n",
        "\n",
        "def target_scaler():\n",
        "    return pickle.load(open(target,'rb'))\n",
        "\n",
        "\n",
        "\n",
        "model = load_model()\n",
        "scaler = load_scaler()\n",
        "target_scaler=target_scaler()\n"
      ],
      "metadata": {
        "id": "joFSncMcoqqi"
      },
      "execution_count": 81,
      "outputs": []
    },
    {
      "cell_type": "code",
      "source": [
        "def inverse_transform(y_pred):\n",
        "  pred=target_scaler.inverse_transform([y_pred])\n",
        "  return pred"
      ],
      "metadata": {
        "id": "OYuT1XrRo5UL"
      },
      "execution_count": 82,
      "outputs": []
    },
    {
      "cell_type": "code",
      "source": [
        "import numpy as np\n",
        "def convert_to_log10(input):\n",
        "  log=np.log10(input)\n",
        "  return log"
      ],
      "metadata": {
        "id": "uWVR-gy5J0-8"
      },
      "execution_count": 83,
      "outputs": []
    },
    {
      "cell_type": "code",
      "source": [
        "def prediction_LOGEC3(X, scaler, model):\n",
        "    # Scale the input\n",
        "    scaled_input = scaler.transform(X)\n",
        "    prediction = model.predict(scaled_input)\n",
        "    return prediction"
      ],
      "metadata": {
        "id": "bAHLha0HoYtr"
      },
      "execution_count": 84,
      "outputs": []
    },
    {
      "cell_type": "code",
      "source": [
        "DPRA_LysD =float(input(\"DPRA LysD:\"))\n",
        "DPRA_CysD =float(input(\"DPRA CysD: \"))\n",
        "log_DPRA_mean = (DPRA_LysD + DPRA_CysD) / 2 \n",
        "log_DPRA_mean=convert_to_log10(log_DPRA_mean) \n",
        "log_DPRA_mean\n",
        "\n"
      ],
      "metadata": {
        "id": "R5mNR6NaJmti",
        "colab": {
          "base_uri": "https://localhost:8080/"
        },
        "outputId": "4d1218e5-8079-4bac-babc-fd89f11f742a"
      },
      "execution_count": 86,
      "outputs": [
        {
          "name": "stdout",
          "output_type": "stream",
          "text": [
            "DPRA LysD:28.6\n",
            "DPRA CysD: 100\n"
          ]
        },
        {
          "output_type": "execute_result",
          "data": {
            "text/plain": [
              "1.808210972924222"
            ]
          },
          "metadata": {},
          "execution_count": 86
        }
      ]
    },
    {
      "cell_type": "code",
      "source": [
        "CD86_EC150=float(input(\"CD86_EC150: \" ))\n",
        "CD54_EC200 =float(input(\"CD54_EC200 \", ))\n",
        "CV75 =float(input(\"CV75:\" ))\n",
        "log_hCLAT_MIT = min(CD86_EC150, CD54_EC200, CV75)\n",
        "log_hCLAT_MIT=convert_to_log10(log_hCLAT_MIT )\n",
        "log_hCLAT_MIT\n"
      ],
      "metadata": {
        "id": "0G1KY9aiKI_u",
        "colab": {
          "base_uri": "https://localhost:8080/"
        },
        "outputId": "b1397479-42b5-4dcd-e912-28046b2458b0"
      },
      "execution_count": 87,
      "outputs": [
        {
          "name": "stdout",
          "output_type": "stream",
          "text": [
            "CD86_EC150: 10.8\n",
            "CD54_EC200 9.42\n",
            "CV75:9.9\n"
          ]
        },
        {
          "output_type": "execute_result",
          "data": {
            "text/plain": [
              "0.9740509027928773"
            ]
          },
          "metadata": {},
          "execution_count": 87
        }
      ]
    },
    {
      "cell_type": "code",
      "source": [
        "log_KSImax=float(input(\"KSIma:\"))\n",
        "log_KSImax=convert_to_log10(log_KSImax)\n",
        "log_KSImax"
      ],
      "metadata": {
        "id": "8asONm0NKDoL",
        "colab": {
          "base_uri": "https://localhost:8080/"
        },
        "outputId": "641fbfb3-3c2c-4709-bdbe-8a276ba0b051"
      },
      "execution_count": 88,
      "outputs": [
        {
          "name": "stdout",
          "output_type": "stream",
          "text": [
            "KSIma:4.03\n"
          ]
        },
        {
          "output_type": "execute_result",
          "data": {
            "text/plain": [
              "0.6053050461411095"
            ]
          },
          "metadata": {},
          "execution_count": 88
        }
      ]
    },
    {
      "cell_type": "code",
      "source": [
        " X= np.array([[log_hCLAT_MIT,log_DPRA_mean,log_KSImax]])\n",
        " result = prediction_LOGEC3(X, scaler, model)\n",
        " result = inverse_transform(result)\n",
        " result"
      ],
      "metadata": {
        "colab": {
          "base_uri": "https://localhost:8080/"
        },
        "id": "_P5_UhQHmNco",
        "outputId": "c13b9399-b321-4a1a-acdc-d1766e7f3dda"
      },
      "execution_count": 101,
      "outputs": [
        {
          "output_type": "execute_result",
          "data": {
            "text/plain": [
              "array([[0.02988608]])"
            ]
          },
          "metadata": {},
          "execution_count": 101
        }
      ]
    },
    {
      "cell_type": "code",
      "execution_count": 102,
      "metadata": {
        "colab": {
          "base_uri": "https://localhost:8080/"
        },
        "id": "BWe4I52ieBYa",
        "outputId": "1b0d735f-2f1f-41d7-fc99-005c8c06b5f6"
      },
      "outputs": [
        {
          "output_type": "stream",
          "name": "stdout",
          "text": [
            "\u001b[2K     \u001b[90m━━━━━━━━━━━━━━━━━━━━━━━━━━━━━━━━━━━━━━━━\u001b[0m \u001b[32m9.6/9.6 MB\u001b[0m \u001b[31m49.8 MB/s\u001b[0m eta \u001b[36m0:00:00\u001b[0m\n",
            "\u001b[?25h  Preparing metadata (setup.py) ... \u001b[?25l\u001b[?25hdone\n",
            "\u001b[2K     \u001b[90m━━━━━━━━━━━━━━━━━━━━━━━━━━━━━━━━━━━━━━━━\u001b[0m \u001b[32m4.7/4.7 MB\u001b[0m \u001b[31m70.6 MB/s\u001b[0m eta \u001b[36m0:00:00\u001b[0m\n",
            "\u001b[2K     \u001b[90m━━━━━━━━━━━━━━━━━━━━━━━━━━━━━━━━━━━━━━\u001b[0m \u001b[32m238.7/238.7 KB\u001b[0m \u001b[31m20.9 MB/s\u001b[0m eta \u001b[36m0:00:00\u001b[0m\n",
            "\u001b[2K     \u001b[90m━━━━━━━━━━━━━━━━━━━━━━━━━━━━━━━━━━━━━━\u001b[0m \u001b[32m184.3/184.3 KB\u001b[0m \u001b[31m18.1 MB/s\u001b[0m eta \u001b[36m0:00:00\u001b[0m\n",
            "\u001b[2K     \u001b[90m━━━━━━━━━━━━━━━━━━━━━━━━━━━━━━━━━━━━━━\u001b[0m \u001b[32m164.8/164.8 KB\u001b[0m \u001b[31m15.9 MB/s\u001b[0m eta \u001b[36m0:00:00\u001b[0m\n",
            "\u001b[2K     \u001b[90m━━━━━━━━━━━━━━━━━━━━━━━━━━━━━━━━━━━━━━━━\u001b[0m \u001b[32m80.6/80.6 KB\u001b[0m \u001b[31m8.5 MB/s\u001b[0m eta \u001b[36m0:00:00\u001b[0m\n",
            "\u001b[2K     \u001b[90m━━━━━━━━━━━━━━━━━━━━━━━━━━━━━━━━━━━━━━━━\u001b[0m \u001b[32m62.7/62.7 KB\u001b[0m \u001b[31m5.9 MB/s\u001b[0m eta \u001b[36m0:00:00\u001b[0m\n",
            "\u001b[2K     \u001b[90m━━━━━━━━━━━━━━━━━━━━━━━━━━━━━━━━━━━━━━━━\u001b[0m \u001b[32m1.1/1.1 MB\u001b[0m \u001b[31m43.1 MB/s\u001b[0m eta \u001b[36m0:00:00\u001b[0m\n",
            "\u001b[2K     \u001b[90m━━━━━━━━━━━━━━━━━━━━━━━━━━━━━━━━━━━━━━━━\u001b[0m \u001b[32m84.5/84.5 KB\u001b[0m \u001b[31m8.5 MB/s\u001b[0m eta \u001b[36m0:00:00\u001b[0m\n",
            "\u001b[?25h  Building wheel for validators (setup.py) ... \u001b[?25l\u001b[?25hdone\n",
            "\u001b[31mERROR: pip's dependency resolver does not currently take into account all the packages that are installed. This behaviour is the source of the following dependency conflicts.\n",
            "ipython 7.9.0 requires jedi>=0.10, which is not installed.\u001b[0m\u001b[31m\n",
            "\u001b[K\u001b[?25h/tools/node/bin/lt -> /tools/node/lib/node_modules/localtunnel/bin/lt.js\n",
            "+ localtunnel@2.0.2\n",
            "added 22 packages from 22 contributors in 2.245s\n"
          ]
        }
      ],
      "source": [
        "!pip install streamlit --quiet\n",
        "!npm install -g localtunnel"
      ]
    },
    {
      "cell_type": "code",
      "execution_count": 106,
      "metadata": {
        "colab": {
          "base_uri": "https://localhost:8080/"
        },
        "id": "5-RoM9YfdML1",
        "outputId": "db0a980c-7d7b-4637-a2db-018f151ff583"
      },
      "outputs": [
        {
          "output_type": "stream",
          "name": "stdout",
          "text": [
            "Overwriting app.py\n"
          ]
        }
      ],
      "source": [
        "%%writefile app.py\n",
        "import numpy as np\n",
        "import pickle\n",
        "import pandas as pd\n",
        "import streamlit as st \n",
        "#collect the model object file\n",
        "#collect the model and min-max object file\n",
        "filename ='EWC_2.pkl' \n",
        "scaler='minmax_scaler.pkl'\n",
        "target='minmax_target.pkl'\n",
        "\n",
        "def load_model():\n",
        "    return pickle.load(open(filename,'rb'))\n",
        "\n",
        "def load_scaler():\n",
        "    return pickle.load(open(scaler,'rb'))\n",
        "\n",
        "\n",
        "def target_scaler():\n",
        "    return pickle.load(open(target,'rb'))\n",
        "\n",
        "\n",
        "\n",
        "model = load_model()\n",
        "scaler = load_scaler()\n",
        "target_scaler=target_scaler()\n",
        "\n",
        "\n",
        "def welcome():\n",
        "    return \"Welcome All\"\n",
        "\n",
        "def inverse_transform(y_pred):\n",
        "  pred=target_scaler.inverse_transform([y_pred])\n",
        "  return pred\n",
        "\n",
        "\n",
        "def prediction_LOGEC3(X, scaler, model):\n",
        "    # Scale the input\n",
        "    scaled_input = scaler.transform(X)\n",
        "    prediction = model.predict(scaled_input)\n",
        "    return prediction\n",
        "\n",
        "def convert_to_log10(input):\n",
        "  log=np.log10(input)\n",
        "  return log\n",
        "\n",
        "def main():\n",
        "    st.title(\"'EDELWEISS CONNECT ITS SKIN SENSITIZATION SOLUTION'\")\n",
        "    st.markdown('An Artificial Neural Network Regression model Utilizing invitro and inchemo(h-CLAT,DPRA,KSIma) Descriptors for predicting skin Sensitization')\n",
        "    html_temp = \"\"\"\n",
        "    EWC_1 SKIN SENSITIZATION PREDICTION App \n",
        "    \"\"\"\n",
        "    if st.button('INFORMATION ABOUT THIS WEB APP BEFORE USE'):\n",
        "          st.write(\"The Edelweiss ITS skin sensitization model predicts the Murine local lymph node assay (LLNA) EC3 value of a substance. The model uses Adverse Outcome Pathway data obtained from in-chemo and invitro assays to reflect the underlying immune response that leads to skin sensitization.\")\n",
        "          st.write('TRAIN DATA')\n",
        "          st.write('The EWC-1 model is trained with the data obtained from the Direct peptide reactivity assay (DPRA). This is  an in-chemo assay that measure a substance ability to form hapten-protein complex. Results from DPRA reflects the molecular initiating event in AOP for skin sensitization and it is the first key event in Skin Sensitization Adverse outcome pathway.')\n",
        "          st.write('The model is trained on Human cell line activation assay data(h-CLAT). h-CLAT also known as human Cell line activation assay is an in-vitro test that access the ability of a substance to induce or mobilize dendric cell in the skin')\n",
        "          st.write('WEB APP INPUT')\n",
        "          st.write('The Web app utilizes log transformed input data for DPRA and h-CLAT. to aid robust and précised prediction capabilities the model accepts the following input parameter. The model accepts this input and automatically select the right input used for making prediction.')\n",
        "          st.write('DPRA – Average of DPRA Lysine AND DPRA Cystine Depletion Values')\n",
        "          st.write('h-CLAT - Maximum of CD86-EC150, CD54-EC200, and CV75')\n",
        "    st.markdown(html_temp, unsafe_allow_html=True)\n",
        "    DPRA_LysD = st.number_input(\"DPRA LysD\", min_value=0.1, max_value=100.0, value=1.0, step=1.0,)\n",
        "    DPRA_CysD = st.number_input(\"DPRA CysD\", min_value=0.1, max_value=100.0, value=1.0, step=1.0,)\n",
        "    log_DPRA_mean = (DPRA_LysD + DPRA_CysD) / 2\n",
        "    log_DPRA_mean=convert_to_log10(log_DPRA_mean)\n",
        "    \n",
        "    CD86_EC150= st.number_input(\"CD86_EC150 \", min_value=1.0, max_value=5000.0, value=1.0, step=1.0)\n",
        "    CD54_EC200 = st.number_input(\"CD54_EC200 \", min_value=1.0, max_value=5000.0, value=1.0, step=1.0)\n",
        "    CV75 = st.number_input(\"CV75\", min_value=1.0, max_value=5000.0, value=10.0, step=1.0,)\n",
        "    log_hCLAT_MIT = min(CD86_EC150, CD54_EC200, CV75)\n",
        "    log_hCLAT_MIT=convert_to_log10(log_hCLAT_MIT )\n",
        "\n",
        "    log_KSImax=st.number_input(\"KSIma\",min_value=1.0, max_value=500.0, value=1.0, step=1.0)\n",
        "    log_KSImax=convert_to_log10(log_KSImax)\n",
        "    X= np.array([[log_hCLAT_MIT,log_DPRA_mean,log_KSImax]])\n",
        "    \n",
        "    #prediction_type = st.selectbox(\"Select prediction type:\", [\"Two-class\", \"Three-class\"])\n",
        "    if st.button(\"Predict\"):\n",
        "    # Scale the input\n",
        "    \n",
        "    # Call the prediction function\n",
        "      result = prediction_LOGEC3(X, scaler, model)\n",
        "    # Convert the prediction back to the original scale\n",
        "      \n",
        "      result = inverse_transform(result)\n",
        "      EC3_Value=result\n",
        "      \n",
        "      if result is not None:\n",
        "        if float(result) < (-1):\n",
        "          result = 'Strong'\n",
        "        elif float(result) >= (-1) and float(result) < 0:\n",
        "          result = 'Strong'\n",
        "        elif float(result) >= 0 and float(result) < 1:\n",
        "          result = 'Moderate'\n",
        "        elif float(result) >= 1:\n",
        "          result = 'Moderate'\n",
        "        else:\n",
        "          result = 'Non'\n",
        "        \n",
        "        st.success(f'The EC3 value is {EC3_Value} and the chemical potency is {result}')\n",
        "    \n",
        "if __name__=='__main__':\n",
        "    main()\n",
        "      "
      ]
    },
    {
      "cell_type": "code",
      "execution_count": null,
      "metadata": {
        "colab": {
          "base_uri": "https://localhost:8080/"
        },
        "id": "3uQNU0FMe6AT",
        "outputId": "370876c8-91d6-43e5-aeb7-d6c43e0dcddf"
      },
      "outputs": [
        {
          "output_type": "stream",
          "name": "stdout",
          "text": [
            "[#######...........] \\ diffTrees: sill install generateActionsToTake\u001b[0m\u001b[K\n",
            "Collecting usage statistics. To deactivate, set browser.gatherUsageStats to False.\n",
            "\u001b[0m\n",
            "\u001b[0m\n",
            "\u001b[34m\u001b[1m  You can now view your Streamlit app in your browser.\u001b[0m\n",
            "\u001b[0m\n",
            "\u001b[34m  Network URL: \u001b[0m\u001b[1mhttp://172.28.0.12:8501\u001b[0m\n",
            "\u001b[34m  External URL: \u001b[0m\u001b[1mhttp://34.139.12.129:8501\u001b[0m\n",
            "\u001b[0m\n",
            "\u001b[K\u001b[?25hnpx: installed 22 in 3.599s\n",
            "your url is: https://cuddly-signs-swim-34-139-12-129.loca.lt\n",
            "/usr/local/lib/python3.9/dist-packages/sklearn/base.py:439: UserWarning: X does not have valid feature names, but MinMaxScaler was fitted with feature names\n",
            "  warnings.warn(\n"
          ]
        }
      ],
      "source": [
        "!streamlit run app.py & npx localtunnel --port 8501"
      ]
    },
    {
      "cell_type": "code",
      "source": [
        "else:\n",
        "            if float(result) < (-1):\n",
        "                result = 'Positive'\n",
        "            elif float(result) >= (-1) and float(result) < 0:\n",
        "                result = 'Positive'\n",
        "            elif float(result) >= 0 and float(result) < 1:\n",
        "                result = 'Positive'\n",
        "            elif float(result) >= 1:\n",
        "                result = 'Positive'\n",
        "            else:\n",
        "                result = 'Negative'"
      ],
      "metadata": {
        "id": "uMzzLIw5pKlo"
      },
      "execution_count": null,
      "outputs": []
    },
    {
      "cell_type": "code",
      "source": [
        "import pickle\n",
        "import numpy as np\n",
        "\n",
        "# Function to load the trained model\n",
        "def load_model():\n",
        "    return pickle.load(open('EWC_2.pkl', 'rb'))\n",
        "\n",
        "# Function to load the scaler for predictor variables\n",
        "def load_predictor_scaler():\n",
        "    return pickle.load(open('minmax_scaler.pkl', 'rb'))\n",
        "\n",
        "# Function to load the scaler for target variable\n",
        "def load_target_scaler():\n",
        "    return pickle.load(open('minmax_target.pkl', 'rb'))\n",
        "\n",
        "# Function to apply inverse transformation on predicted target variable\n",
        "def inverse_transform(y_pred):\n",
        "    target_scaler = load_target_scaler()\n",
        "    pred = target_scaler.inverse_transform([y_pred])\n",
        "    return pred\n",
        "\n",
        "# Function to convert input to log10 scale\n",
        "def convert_to_log10(input):\n",
        "    log = np.log10(input)\n",
        "    return log\n",
        "\n",
        "# Function to make prediction using loaded model and scalers\n",
        "def prediction_LOGEC3(X):\n",
        "    model = load_model()\n",
        "    predictor_scaler = load_predictor_scaler()\n",
        "    # Scale the input\n",
        "    scaled_input = predictor_scaler.transform(X)\n",
        "    # Make prediction\n",
        "    prediction = model.predict(scaled_input)\n",
        "    # Apply inverse transform to get back the original scale\n",
        "    prediction = inverse_transform(prediction)\n",
        "    return prediction\n",
        "\n",
        "# Take input from user\n",
        "DPRA_LysD = float(input(\"DPRA LysD: \"))\n",
        "DPRA_CysD = float(input(\"DPRA CysD: \"))\n",
        "log_DPRA_mean = (DPRA_LysD + DPRA_CysD) / 2 \n",
        "log_DPRA_mean = convert_to_log10(log_DPRA_mean) \n",
        "CD86_EC150 = float(input(\"CD86_EC150: \"))\n",
        "CD54_EC200 = float(input(\"CD54_EC200: \"))\n",
        "CV75 = float(input(\"CV75: \"))\n",
        "log_hCLAT_MIT = min(CD86_EC150, CD54_EC200, CV75)\n",
        "log_hCLAT_MIT = convert_to_log10(log_hCLAT_MIT)\n",
        "log_KSImax = float(input(\"KSIma: \"))\n",
        "log_KSImax = convert_to_log10(log_KSImax)\n",
        "X = np.array([[log_DPRA_mean, log_hCLAT_MIT, log_KSImax]])\n",
        "\n",
        "# Make prediction using deployed model\n",
        "result = prediction_LOGEC3(X)\n",
        "\n",
        "# Print the predicted value\n",
        "print(\"Predicted value: \", result)\n"
      ],
      "metadata": {
        "colab": {
          "base_uri": "https://localhost:8080/"
        },
        "id": "OsqY5yd9anrX",
        "outputId": "e4ef2330-42b8-4259-99b4-c2e1bbfad198"
      },
      "execution_count": 122,
      "outputs": [
        {
          "output_type": "stream",
          "name": "stdout",
          "text": [
            "DPRA LysD: 28.6\n",
            "DPRA CysD: 100\n",
            "CD86_EC150: 10.8\n",
            "CD54_EC200: 9.42\n",
            "CV75: 9.9\n",
            "KSIma: 4.03\n",
            "Predicted value:  [0.76883775]\n"
          ]
        }
      ]
    }
  ],
  "metadata": {
    "colab": {
      "provenance": [],
      "authorship_tag": "ABX9TyNLObpfC457MEhx2/7i+bSO",
      "include_colab_link": true
    },
    "kernelspec": {
      "display_name": "Python 3",
      "name": "python3"
    },
    "language_info": {
      "name": "python"
    }
  },
  "nbformat": 4,
  "nbformat_minor": 0
}